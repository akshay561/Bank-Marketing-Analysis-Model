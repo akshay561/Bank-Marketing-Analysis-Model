{
 "cells": [
  {
   "cell_type": "markdown",
   "id": "b91028f7",
   "metadata": {},
   "source": [
    "# BANK MARKETING "
   ]
  },
  {
   "cell_type": "raw",
   "id": "a9ff3828",
   "metadata": {},
   "source": [
    "CONTENTS:\n",
    "\n",
    "1) age (numeric)\n",
    "2) job : type of job (categorical:admin.','bluecollar','entrepreneur','housemaid','management','retired','selfemployed','services','student','technician','unemployed','unknown')\n",
    "3) marital : marital status (categorical:'divorced','married','single','unknown'\n",
    "4) education (categorical: 'basic.4y','basic.6y','basic.9y','high.school','illiterate','professional.course','university.degree','unknown')\n",
    "5) default: has credit in default? (categorical: 'no','yes','unknown')\n",
    "6) balance: average yearly balance, in euros (numeric)\n",
    "7) housing: has housing loan? (categorical: 'no','yes','unknown')\n",
    "8) loan: has personal loan? (categorical: 'no','yes','unknown')\n",
    "9) contact: contact communication type (categorical:'cellular','telephone')\n",
    "10) day: last contact day of the month (numeric 1 -31)\n",
    "11) month: last contact month of year (categorical: 'jan', 'feb','mar', …, 'nov', 'dec')\n",
    "12) duration: last contact duration, in seconds (numeric).\n",
    "13) campaign: number of contacts performed during this campaign and for this client (numeric, includes last contact)\n",
    "14) pdays: number of days that passed by after the client was last contacted from a previous campaign (numeric; 999 means client was not previously contacted)\n",
    "15) previous: number of contacts performed before this campaign and for this client (numeric)\n",
    "16) poutcome: outcome of the previous marketingcampaign(categorical:'failure','nonexistent','success')\n",
    "17) y : has the client subscribed a term deposit? (binary:\"yes\",\"no\")"
   ]
  },
  {
   "cell_type": "code",
   "execution_count": 1,
   "id": "3bfb3943",
   "metadata": {},
   "outputs": [],
   "source": [
    "import pandas as pd\n",
    "import numpy as np\n",
    "import matplotlib.pyplot as plt\n",
    "import seaborn as sns\n",
    "import time,datetime\n",
    "\n",
    "#Escape warnings\n",
    "import warnings \n",
    "warnings.filterwarnings('ignore')\n",
    "\n",
    "#Model Libraries \n",
    "from sklearn.model_selection import train_test_split"
   ]
  },
  {
   "cell_type": "code",
   "execution_count": 2,
   "id": "b2e17980",
   "metadata": {},
   "outputs": [],
   "source": [
    "df=pd.read_csv(r'C:\\Users\\admin\\OneDrive\\Desktop\\Data Science\\Banking Dataset\\bank-additional-full 1.csv')"
   ]
  },
  {
   "cell_type": "code",
   "execution_count": 3,
   "id": "6f70f715",
   "metadata": {},
   "outputs": [
    {
     "data": {
      "text/html": [
       "<div>\n",
       "<style scoped>\n",
       "    .dataframe tbody tr th:only-of-type {\n",
       "        vertical-align: middle;\n",
       "    }\n",
       "\n",
       "    .dataframe tbody tr th {\n",
       "        vertical-align: top;\n",
       "    }\n",
       "\n",
       "    .dataframe thead th {\n",
       "        text-align: right;\n",
       "    }\n",
       "</style>\n",
       "<table border=\"1\" class=\"dataframe\">\n",
       "  <thead>\n",
       "    <tr style=\"text-align: right;\">\n",
       "      <th></th>\n",
       "      <th>age</th>\n",
       "      <th>job</th>\n",
       "      <th>marital</th>\n",
       "      <th>education</th>\n",
       "      <th>default</th>\n",
       "      <th>housing</th>\n",
       "      <th>loan</th>\n",
       "      <th>contact</th>\n",
       "      <th>month</th>\n",
       "      <th>day_of_week</th>\n",
       "      <th>...</th>\n",
       "      <th>campaign</th>\n",
       "      <th>pdays</th>\n",
       "      <th>previous</th>\n",
       "      <th>poutcome</th>\n",
       "      <th>emp.var.rate</th>\n",
       "      <th>cons.price.idx</th>\n",
       "      <th>cons.conf.idx</th>\n",
       "      <th>euribor3m</th>\n",
       "      <th>nr.employed</th>\n",
       "      <th>y</th>\n",
       "    </tr>\n",
       "  </thead>\n",
       "  <tbody>\n",
       "    <tr>\n",
       "      <th>0</th>\n",
       "      <td>56</td>\n",
       "      <td>housemaid</td>\n",
       "      <td>married</td>\n",
       "      <td>basic.4y</td>\n",
       "      <td>no</td>\n",
       "      <td>no</td>\n",
       "      <td>no</td>\n",
       "      <td>telephone</td>\n",
       "      <td>may</td>\n",
       "      <td>mon</td>\n",
       "      <td>...</td>\n",
       "      <td>1</td>\n",
       "      <td>999</td>\n",
       "      <td>0</td>\n",
       "      <td>nonexistent</td>\n",
       "      <td>1.1</td>\n",
       "      <td>93.994</td>\n",
       "      <td>-36.4</td>\n",
       "      <td>4.857</td>\n",
       "      <td>5191.0</td>\n",
       "      <td>no</td>\n",
       "    </tr>\n",
       "    <tr>\n",
       "      <th>1</th>\n",
       "      <td>57</td>\n",
       "      <td>services</td>\n",
       "      <td>married</td>\n",
       "      <td>high.school</td>\n",
       "      <td>unknown</td>\n",
       "      <td>no</td>\n",
       "      <td>no</td>\n",
       "      <td>telephone</td>\n",
       "      <td>may</td>\n",
       "      <td>mon</td>\n",
       "      <td>...</td>\n",
       "      <td>1</td>\n",
       "      <td>999</td>\n",
       "      <td>0</td>\n",
       "      <td>nonexistent</td>\n",
       "      <td>1.1</td>\n",
       "      <td>93.994</td>\n",
       "      <td>-36.4</td>\n",
       "      <td>4.857</td>\n",
       "      <td>5191.0</td>\n",
       "      <td>no</td>\n",
       "    </tr>\n",
       "    <tr>\n",
       "      <th>2</th>\n",
       "      <td>37</td>\n",
       "      <td>services</td>\n",
       "      <td>married</td>\n",
       "      <td>high.school</td>\n",
       "      <td>no</td>\n",
       "      <td>yes</td>\n",
       "      <td>no</td>\n",
       "      <td>telephone</td>\n",
       "      <td>may</td>\n",
       "      <td>mon</td>\n",
       "      <td>...</td>\n",
       "      <td>1</td>\n",
       "      <td>999</td>\n",
       "      <td>0</td>\n",
       "      <td>nonexistent</td>\n",
       "      <td>1.1</td>\n",
       "      <td>93.994</td>\n",
       "      <td>-36.4</td>\n",
       "      <td>4.857</td>\n",
       "      <td>5191.0</td>\n",
       "      <td>no</td>\n",
       "    </tr>\n",
       "    <tr>\n",
       "      <th>3</th>\n",
       "      <td>40</td>\n",
       "      <td>admin.</td>\n",
       "      <td>married</td>\n",
       "      <td>basic.6y</td>\n",
       "      <td>no</td>\n",
       "      <td>no</td>\n",
       "      <td>no</td>\n",
       "      <td>telephone</td>\n",
       "      <td>may</td>\n",
       "      <td>mon</td>\n",
       "      <td>...</td>\n",
       "      <td>1</td>\n",
       "      <td>999</td>\n",
       "      <td>0</td>\n",
       "      <td>nonexistent</td>\n",
       "      <td>1.1</td>\n",
       "      <td>93.994</td>\n",
       "      <td>-36.4</td>\n",
       "      <td>4.857</td>\n",
       "      <td>5191.0</td>\n",
       "      <td>no</td>\n",
       "    </tr>\n",
       "    <tr>\n",
       "      <th>4</th>\n",
       "      <td>56</td>\n",
       "      <td>services</td>\n",
       "      <td>married</td>\n",
       "      <td>high.school</td>\n",
       "      <td>no</td>\n",
       "      <td>no</td>\n",
       "      <td>yes</td>\n",
       "      <td>telephone</td>\n",
       "      <td>may</td>\n",
       "      <td>mon</td>\n",
       "      <td>...</td>\n",
       "      <td>1</td>\n",
       "      <td>999</td>\n",
       "      <td>0</td>\n",
       "      <td>nonexistent</td>\n",
       "      <td>1.1</td>\n",
       "      <td>93.994</td>\n",
       "      <td>-36.4</td>\n",
       "      <td>4.857</td>\n",
       "      <td>5191.0</td>\n",
       "      <td>no</td>\n",
       "    </tr>\n",
       "  </tbody>\n",
       "</table>\n",
       "<p>5 rows × 21 columns</p>\n",
       "</div>"
      ],
      "text/plain": [
       "   age        job  marital    education  default housing loan    contact  \\\n",
       "0   56  housemaid  married     basic.4y       no      no   no  telephone   \n",
       "1   57   services  married  high.school  unknown      no   no  telephone   \n",
       "2   37   services  married  high.school       no     yes   no  telephone   \n",
       "3   40     admin.  married     basic.6y       no      no   no  telephone   \n",
       "4   56   services  married  high.school       no      no  yes  telephone   \n",
       "\n",
       "  month day_of_week  ...  campaign  pdays  previous     poutcome emp.var.rate  \\\n",
       "0   may         mon  ...         1    999         0  nonexistent          1.1   \n",
       "1   may         mon  ...         1    999         0  nonexistent          1.1   \n",
       "2   may         mon  ...         1    999         0  nonexistent          1.1   \n",
       "3   may         mon  ...         1    999         0  nonexistent          1.1   \n",
       "4   may         mon  ...         1    999         0  nonexistent          1.1   \n",
       "\n",
       "   cons.price.idx  cons.conf.idx  euribor3m  nr.employed   y  \n",
       "0          93.994          -36.4      4.857       5191.0  no  \n",
       "1          93.994          -36.4      4.857       5191.0  no  \n",
       "2          93.994          -36.4      4.857       5191.0  no  \n",
       "3          93.994          -36.4      4.857       5191.0  no  \n",
       "4          93.994          -36.4      4.857       5191.0  no  \n",
       "\n",
       "[5 rows x 21 columns]"
      ]
     },
     "execution_count": 3,
     "metadata": {},
     "output_type": "execute_result"
    }
   ],
   "source": [
    "df.head()"
   ]
  },
  {
   "cell_type": "code",
   "execution_count": 4,
   "id": "c104a627",
   "metadata": {},
   "outputs": [
    {
     "data": {
      "text/plain": [
       "(41188, 21)"
      ]
     },
     "execution_count": 4,
     "metadata": {},
     "output_type": "execute_result"
    }
   ],
   "source": [
    "df.shape"
   ]
  },
  {
   "cell_type": "code",
   "execution_count": 5,
   "id": "1551b14a",
   "metadata": {},
   "outputs": [
    {
     "name": "stdout",
     "output_type": "stream",
     "text": [
      "<class 'pandas.core.frame.DataFrame'>\n",
      "RangeIndex: 41188 entries, 0 to 41187\n",
      "Data columns (total 21 columns):\n",
      " #   Column          Non-Null Count  Dtype  \n",
      "---  ------          --------------  -----  \n",
      " 0   age             41188 non-null  int64  \n",
      " 1   job             41188 non-null  object \n",
      " 2   marital         41188 non-null  object \n",
      " 3   education       41188 non-null  object \n",
      " 4   default         41188 non-null  object \n",
      " 5   housing         41188 non-null  object \n",
      " 6   loan            41188 non-null  object \n",
      " 7   contact         41188 non-null  object \n",
      " 8   month           41188 non-null  object \n",
      " 9   day_of_week     41188 non-null  object \n",
      " 10  duration        41188 non-null  int64  \n",
      " 11  campaign        41188 non-null  int64  \n",
      " 12  pdays           41188 non-null  int64  \n",
      " 13  previous        41188 non-null  int64  \n",
      " 14  poutcome        41188 non-null  object \n",
      " 15  emp.var.rate    41188 non-null  float64\n",
      " 16  cons.price.idx  41188 non-null  float64\n",
      " 17  cons.conf.idx   41188 non-null  float64\n",
      " 18  euribor3m       41188 non-null  float64\n",
      " 19  nr.employed     41188 non-null  float64\n",
      " 20  y               41188 non-null  object \n",
      "dtypes: float64(5), int64(5), object(11)\n",
      "memory usage: 6.6+ MB\n"
     ]
    }
   ],
   "source": [
    "df.info()"
   ]
  },
  {
   "cell_type": "code",
   "execution_count": 6,
   "id": "25f7a7fe",
   "metadata": {},
   "outputs": [
    {
     "data": {
      "text/html": [
       "<div>\n",
       "<style scoped>\n",
       "    .dataframe tbody tr th:only-of-type {\n",
       "        vertical-align: middle;\n",
       "    }\n",
       "\n",
       "    .dataframe tbody tr th {\n",
       "        vertical-align: top;\n",
       "    }\n",
       "\n",
       "    .dataframe thead th {\n",
       "        text-align: right;\n",
       "    }\n",
       "</style>\n",
       "<table border=\"1\" class=\"dataframe\">\n",
       "  <thead>\n",
       "    <tr style=\"text-align: right;\">\n",
       "      <th></th>\n",
       "      <th>age</th>\n",
       "      <th>duration</th>\n",
       "      <th>campaign</th>\n",
       "      <th>pdays</th>\n",
       "      <th>previous</th>\n",
       "      <th>emp.var.rate</th>\n",
       "      <th>cons.price.idx</th>\n",
       "      <th>cons.conf.idx</th>\n",
       "      <th>euribor3m</th>\n",
       "      <th>nr.employed</th>\n",
       "    </tr>\n",
       "  </thead>\n",
       "  <tbody>\n",
       "    <tr>\n",
       "      <th>count</th>\n",
       "      <td>41188.00000</td>\n",
       "      <td>41188.000000</td>\n",
       "      <td>41188.000000</td>\n",
       "      <td>41188.000000</td>\n",
       "      <td>41188.000000</td>\n",
       "      <td>41188.000000</td>\n",
       "      <td>41188.000000</td>\n",
       "      <td>41188.000000</td>\n",
       "      <td>41188.000000</td>\n",
       "      <td>41188.000000</td>\n",
       "    </tr>\n",
       "    <tr>\n",
       "      <th>mean</th>\n",
       "      <td>40.02406</td>\n",
       "      <td>258.285010</td>\n",
       "      <td>2.567593</td>\n",
       "      <td>962.475454</td>\n",
       "      <td>0.172963</td>\n",
       "      <td>0.081886</td>\n",
       "      <td>93.575664</td>\n",
       "      <td>-40.502600</td>\n",
       "      <td>3.621291</td>\n",
       "      <td>5167.035911</td>\n",
       "    </tr>\n",
       "    <tr>\n",
       "      <th>std</th>\n",
       "      <td>10.42125</td>\n",
       "      <td>259.279249</td>\n",
       "      <td>2.770014</td>\n",
       "      <td>186.910907</td>\n",
       "      <td>0.494901</td>\n",
       "      <td>1.570960</td>\n",
       "      <td>0.578840</td>\n",
       "      <td>4.628198</td>\n",
       "      <td>1.734447</td>\n",
       "      <td>72.251528</td>\n",
       "    </tr>\n",
       "    <tr>\n",
       "      <th>min</th>\n",
       "      <td>17.00000</td>\n",
       "      <td>0.000000</td>\n",
       "      <td>1.000000</td>\n",
       "      <td>0.000000</td>\n",
       "      <td>0.000000</td>\n",
       "      <td>-3.400000</td>\n",
       "      <td>92.201000</td>\n",
       "      <td>-50.800000</td>\n",
       "      <td>0.634000</td>\n",
       "      <td>4963.600000</td>\n",
       "    </tr>\n",
       "    <tr>\n",
       "      <th>25%</th>\n",
       "      <td>32.00000</td>\n",
       "      <td>102.000000</td>\n",
       "      <td>1.000000</td>\n",
       "      <td>999.000000</td>\n",
       "      <td>0.000000</td>\n",
       "      <td>-1.800000</td>\n",
       "      <td>93.075000</td>\n",
       "      <td>-42.700000</td>\n",
       "      <td>1.344000</td>\n",
       "      <td>5099.100000</td>\n",
       "    </tr>\n",
       "    <tr>\n",
       "      <th>50%</th>\n",
       "      <td>38.00000</td>\n",
       "      <td>180.000000</td>\n",
       "      <td>2.000000</td>\n",
       "      <td>999.000000</td>\n",
       "      <td>0.000000</td>\n",
       "      <td>1.100000</td>\n",
       "      <td>93.749000</td>\n",
       "      <td>-41.800000</td>\n",
       "      <td>4.857000</td>\n",
       "      <td>5191.000000</td>\n",
       "    </tr>\n",
       "    <tr>\n",
       "      <th>75%</th>\n",
       "      <td>47.00000</td>\n",
       "      <td>319.000000</td>\n",
       "      <td>3.000000</td>\n",
       "      <td>999.000000</td>\n",
       "      <td>0.000000</td>\n",
       "      <td>1.400000</td>\n",
       "      <td>93.994000</td>\n",
       "      <td>-36.400000</td>\n",
       "      <td>4.961000</td>\n",
       "      <td>5228.100000</td>\n",
       "    </tr>\n",
       "    <tr>\n",
       "      <th>max</th>\n",
       "      <td>98.00000</td>\n",
       "      <td>4918.000000</td>\n",
       "      <td>56.000000</td>\n",
       "      <td>999.000000</td>\n",
       "      <td>7.000000</td>\n",
       "      <td>1.400000</td>\n",
       "      <td>94.767000</td>\n",
       "      <td>-26.900000</td>\n",
       "      <td>5.045000</td>\n",
       "      <td>5228.100000</td>\n",
       "    </tr>\n",
       "  </tbody>\n",
       "</table>\n",
       "</div>"
      ],
      "text/plain": [
       "               age      duration      campaign         pdays      previous  \\\n",
       "count  41188.00000  41188.000000  41188.000000  41188.000000  41188.000000   \n",
       "mean      40.02406    258.285010      2.567593    962.475454      0.172963   \n",
       "std       10.42125    259.279249      2.770014    186.910907      0.494901   \n",
       "min       17.00000      0.000000      1.000000      0.000000      0.000000   \n",
       "25%       32.00000    102.000000      1.000000    999.000000      0.000000   \n",
       "50%       38.00000    180.000000      2.000000    999.000000      0.000000   \n",
       "75%       47.00000    319.000000      3.000000    999.000000      0.000000   \n",
       "max       98.00000   4918.000000     56.000000    999.000000      7.000000   \n",
       "\n",
       "       emp.var.rate  cons.price.idx  cons.conf.idx     euribor3m   nr.employed  \n",
       "count  41188.000000    41188.000000   41188.000000  41188.000000  41188.000000  \n",
       "mean       0.081886       93.575664     -40.502600      3.621291   5167.035911  \n",
       "std        1.570960        0.578840       4.628198      1.734447     72.251528  \n",
       "min       -3.400000       92.201000     -50.800000      0.634000   4963.600000  \n",
       "25%       -1.800000       93.075000     -42.700000      1.344000   5099.100000  \n",
       "50%        1.100000       93.749000     -41.800000      4.857000   5191.000000  \n",
       "75%        1.400000       93.994000     -36.400000      4.961000   5228.100000  \n",
       "max        1.400000       94.767000     -26.900000      5.045000   5228.100000  "
      ]
     },
     "execution_count": 6,
     "metadata": {},
     "output_type": "execute_result"
    }
   ],
   "source": [
    "df.describe()"
   ]
  },
  {
   "cell_type": "code",
   "execution_count": 7,
   "id": "19ed2b83",
   "metadata": {},
   "outputs": [
    {
     "name": "stdout",
     "output_type": "stream",
     "text": [
      "job\n",
      "['housemaid' 'services' 'admin.' 'blue-collar' 'technician' 'retired'\n",
      " 'management' 'unemployed' 'self-employed' 'unknown' 'entrepreneur'\n",
      " 'student']\n",
      "marital\n",
      "['married' 'single' 'divorced' 'unknown']\n",
      "education\n",
      "['basic.4y' 'high.school' 'basic.6y' 'basic.9y' 'professional.course'\n",
      " 'unknown' 'university.degree' 'illiterate']\n",
      "default\n",
      "['no' 'unknown' 'yes']\n",
      "housing\n",
      "['no' 'yes' 'unknown']\n",
      "loan\n",
      "['no' 'yes' 'unknown']\n",
      "contact\n",
      "['telephone' 'cellular']\n",
      "month\n",
      "['may' 'jun' 'jul' 'aug' 'oct' 'nov' 'dec' 'mar' 'apr' 'sep']\n",
      "day_of_week\n",
      "['mon' 'tue' 'wed' 'thu' 'fri']\n",
      "poutcome\n",
      "['nonexistent' 'failure' 'success']\n",
      "y\n",
      "['no' 'yes']\n"
     ]
    }
   ],
   "source": [
    "for col in df.select_dtypes(include='object').columns:\n",
    "    print(col)\n",
    "    print(df[col].unique())"
   ]
  },
  {
   "cell_type": "code",
   "execution_count": 8,
   "id": "6fb0c3c6",
   "metadata": {},
   "outputs": [],
   "source": [
    "#Mapping\n",
    "df['default'] = df['default'].map({'yes':1 ,'no':0}) "
   ]
  },
  {
   "cell_type": "code",
   "execution_count": 9,
   "id": "14cad802",
   "metadata": {},
   "outputs": [],
   "source": [
    "df['housing'] = df['housing'].map( \n",
    "                   {'yes':1 ,'no':0}) \n",
    "df['loan'] = df['loan'].map( \n",
    "                   {'yes':1 ,'no':0}) \n",
    "df['y'] = df['y'].map( \n",
    "                   {'yes':1 ,'no':0})"
   ]
  },
  {
   "cell_type": "code",
   "execution_count": 10,
   "id": "a1b8249d",
   "metadata": {},
   "outputs": [
    {
     "data": {
      "text/html": [
       "<div>\n",
       "<style scoped>\n",
       "    .dataframe tbody tr th:only-of-type {\n",
       "        vertical-align: middle;\n",
       "    }\n",
       "\n",
       "    .dataframe tbody tr th {\n",
       "        vertical-align: top;\n",
       "    }\n",
       "\n",
       "    .dataframe thead th {\n",
       "        text-align: right;\n",
       "    }\n",
       "</style>\n",
       "<table border=\"1\" class=\"dataframe\">\n",
       "  <thead>\n",
       "    <tr style=\"text-align: right;\">\n",
       "      <th></th>\n",
       "      <th>age</th>\n",
       "      <th>job</th>\n",
       "      <th>marital</th>\n",
       "      <th>education</th>\n",
       "      <th>default</th>\n",
       "      <th>housing</th>\n",
       "      <th>loan</th>\n",
       "      <th>contact</th>\n",
       "      <th>month</th>\n",
       "      <th>day_of_week</th>\n",
       "      <th>...</th>\n",
       "      <th>campaign</th>\n",
       "      <th>pdays</th>\n",
       "      <th>previous</th>\n",
       "      <th>poutcome</th>\n",
       "      <th>emp.var.rate</th>\n",
       "      <th>cons.price.idx</th>\n",
       "      <th>cons.conf.idx</th>\n",
       "      <th>euribor3m</th>\n",
       "      <th>nr.employed</th>\n",
       "      <th>y</th>\n",
       "    </tr>\n",
       "  </thead>\n",
       "  <tbody>\n",
       "    <tr>\n",
       "      <th>0</th>\n",
       "      <td>56</td>\n",
       "      <td>housemaid</td>\n",
       "      <td>married</td>\n",
       "      <td>basic.4y</td>\n",
       "      <td>0.0</td>\n",
       "      <td>0.0</td>\n",
       "      <td>0.0</td>\n",
       "      <td>telephone</td>\n",
       "      <td>may</td>\n",
       "      <td>mon</td>\n",
       "      <td>...</td>\n",
       "      <td>1</td>\n",
       "      <td>999</td>\n",
       "      <td>0</td>\n",
       "      <td>nonexistent</td>\n",
       "      <td>1.1</td>\n",
       "      <td>93.994</td>\n",
       "      <td>-36.4</td>\n",
       "      <td>4.857</td>\n",
       "      <td>5191.0</td>\n",
       "      <td>0</td>\n",
       "    </tr>\n",
       "    <tr>\n",
       "      <th>1</th>\n",
       "      <td>57</td>\n",
       "      <td>services</td>\n",
       "      <td>married</td>\n",
       "      <td>high.school</td>\n",
       "      <td>NaN</td>\n",
       "      <td>0.0</td>\n",
       "      <td>0.0</td>\n",
       "      <td>telephone</td>\n",
       "      <td>may</td>\n",
       "      <td>mon</td>\n",
       "      <td>...</td>\n",
       "      <td>1</td>\n",
       "      <td>999</td>\n",
       "      <td>0</td>\n",
       "      <td>nonexistent</td>\n",
       "      <td>1.1</td>\n",
       "      <td>93.994</td>\n",
       "      <td>-36.4</td>\n",
       "      <td>4.857</td>\n",
       "      <td>5191.0</td>\n",
       "      <td>0</td>\n",
       "    </tr>\n",
       "    <tr>\n",
       "      <th>2</th>\n",
       "      <td>37</td>\n",
       "      <td>services</td>\n",
       "      <td>married</td>\n",
       "      <td>high.school</td>\n",
       "      <td>0.0</td>\n",
       "      <td>1.0</td>\n",
       "      <td>0.0</td>\n",
       "      <td>telephone</td>\n",
       "      <td>may</td>\n",
       "      <td>mon</td>\n",
       "      <td>...</td>\n",
       "      <td>1</td>\n",
       "      <td>999</td>\n",
       "      <td>0</td>\n",
       "      <td>nonexistent</td>\n",
       "      <td>1.1</td>\n",
       "      <td>93.994</td>\n",
       "      <td>-36.4</td>\n",
       "      <td>4.857</td>\n",
       "      <td>5191.0</td>\n",
       "      <td>0</td>\n",
       "    </tr>\n",
       "    <tr>\n",
       "      <th>3</th>\n",
       "      <td>40</td>\n",
       "      <td>admin.</td>\n",
       "      <td>married</td>\n",
       "      <td>basic.6y</td>\n",
       "      <td>0.0</td>\n",
       "      <td>0.0</td>\n",
       "      <td>0.0</td>\n",
       "      <td>telephone</td>\n",
       "      <td>may</td>\n",
       "      <td>mon</td>\n",
       "      <td>...</td>\n",
       "      <td>1</td>\n",
       "      <td>999</td>\n",
       "      <td>0</td>\n",
       "      <td>nonexistent</td>\n",
       "      <td>1.1</td>\n",
       "      <td>93.994</td>\n",
       "      <td>-36.4</td>\n",
       "      <td>4.857</td>\n",
       "      <td>5191.0</td>\n",
       "      <td>0</td>\n",
       "    </tr>\n",
       "    <tr>\n",
       "      <th>4</th>\n",
       "      <td>56</td>\n",
       "      <td>services</td>\n",
       "      <td>married</td>\n",
       "      <td>high.school</td>\n",
       "      <td>0.0</td>\n",
       "      <td>0.0</td>\n",
       "      <td>1.0</td>\n",
       "      <td>telephone</td>\n",
       "      <td>may</td>\n",
       "      <td>mon</td>\n",
       "      <td>...</td>\n",
       "      <td>1</td>\n",
       "      <td>999</td>\n",
       "      <td>0</td>\n",
       "      <td>nonexistent</td>\n",
       "      <td>1.1</td>\n",
       "      <td>93.994</td>\n",
       "      <td>-36.4</td>\n",
       "      <td>4.857</td>\n",
       "      <td>5191.0</td>\n",
       "      <td>0</td>\n",
       "    </tr>\n",
       "  </tbody>\n",
       "</table>\n",
       "<p>5 rows × 21 columns</p>\n",
       "</div>"
      ],
      "text/plain": [
       "   age        job  marital    education  default  housing  loan    contact  \\\n",
       "0   56  housemaid  married     basic.4y      0.0      0.0   0.0  telephone   \n",
       "1   57   services  married  high.school      NaN      0.0   0.0  telephone   \n",
       "2   37   services  married  high.school      0.0      1.0   0.0  telephone   \n",
       "3   40     admin.  married     basic.6y      0.0      0.0   0.0  telephone   \n",
       "4   56   services  married  high.school      0.0      0.0   1.0  telephone   \n",
       "\n",
       "  month day_of_week  ...  campaign  pdays  previous     poutcome emp.var.rate  \\\n",
       "0   may         mon  ...         1    999         0  nonexistent          1.1   \n",
       "1   may         mon  ...         1    999         0  nonexistent          1.1   \n",
       "2   may         mon  ...         1    999         0  nonexistent          1.1   \n",
       "3   may         mon  ...         1    999         0  nonexistent          1.1   \n",
       "4   may         mon  ...         1    999         0  nonexistent          1.1   \n",
       "\n",
       "   cons.price.idx  cons.conf.idx  euribor3m  nr.employed  y  \n",
       "0          93.994          -36.4      4.857       5191.0  0  \n",
       "1          93.994          -36.4      4.857       5191.0  0  \n",
       "2          93.994          -36.4      4.857       5191.0  0  \n",
       "3          93.994          -36.4      4.857       5191.0  0  \n",
       "4          93.994          -36.4      4.857       5191.0  0  \n",
       "\n",
       "[5 rows x 21 columns]"
      ]
     },
     "execution_count": 10,
     "metadata": {},
     "output_type": "execute_result"
    }
   ],
   "source": [
    "df.head()"
   ]
  },
  {
   "cell_type": "markdown",
   "id": "b07e78e3",
   "metadata": {},
   "source": [
    "# DATA CLEANING"
   ]
  },
  {
   "cell_type": "code",
   "execution_count": 11,
   "id": "79cfeb22",
   "metadata": {},
   "outputs": [
    {
     "data": {
      "text/plain": [
       "age                  0\n",
       "job                  0\n",
       "marital              0\n",
       "education            0\n",
       "default           8597\n",
       "housing            990\n",
       "loan               990\n",
       "contact              0\n",
       "month                0\n",
       "day_of_week          0\n",
       "duration             0\n",
       "campaign             0\n",
       "pdays                0\n",
       "previous             0\n",
       "poutcome             0\n",
       "emp.var.rate         0\n",
       "cons.price.idx       0\n",
       "cons.conf.idx        0\n",
       "euribor3m            0\n",
       "nr.employed          0\n",
       "y                    0\n",
       "dtype: int64"
      ]
     },
     "execution_count": 11,
     "metadata": {},
     "output_type": "execute_result"
    }
   ],
   "source": [
    "df.isnull().sum()"
   ]
  },
  {
   "cell_type": "code",
   "execution_count": 12,
   "id": "246411e3",
   "metadata": {},
   "outputs": [],
   "source": [
    "df.dropna(subset=['default'],axis=0,inplace=True)"
   ]
  },
  {
   "cell_type": "code",
   "execution_count": 13,
   "id": "d542d2ab",
   "metadata": {},
   "outputs": [],
   "source": [
    "df.dropna(subset=['housing'],axis=0,inplace=True)"
   ]
  },
  {
   "cell_type": "code",
   "execution_count": 14,
   "id": "595bfe00",
   "metadata": {},
   "outputs": [],
   "source": [
    "df.dropna(subset=['loan'],axis=0,inplace=True)"
   ]
  },
  {
   "cell_type": "code",
   "execution_count": 15,
   "id": "6fbbb060",
   "metadata": {},
   "outputs": [
    {
     "data": {
      "text/plain": [
       "age               0\n",
       "job               0\n",
       "marital           0\n",
       "education         0\n",
       "default           0\n",
       "housing           0\n",
       "loan              0\n",
       "contact           0\n",
       "month             0\n",
       "day_of_week       0\n",
       "duration          0\n",
       "campaign          0\n",
       "pdays             0\n",
       "previous          0\n",
       "poutcome          0\n",
       "emp.var.rate      0\n",
       "cons.price.idx    0\n",
       "cons.conf.idx     0\n",
       "euribor3m         0\n",
       "nr.employed       0\n",
       "y                 0\n",
       "dtype: int64"
      ]
     },
     "execution_count": 15,
     "metadata": {},
     "output_type": "execute_result"
    }
   ],
   "source": [
    "df.isnull().sum()"
   ]
  },
  {
   "cell_type": "markdown",
   "id": "88b18583",
   "metadata": {},
   "source": [
    "## DATA EXPLORATION"
   ]
  },
  {
   "cell_type": "code",
   "execution_count": 16,
   "id": "8c4241e4",
   "metadata": {},
   "outputs": [
    {
     "data": {
      "text/plain": [
       "0    27727\n",
       "1     4101\n",
       "Name: y, dtype: int64"
      ]
     },
     "execution_count": 16,
     "metadata": {},
     "output_type": "execute_result"
    }
   ],
   "source": [
    "df.y.value_counts()"
   ]
  },
  {
   "cell_type": "code",
   "execution_count": 17,
   "id": "98d0f174",
   "metadata": {},
   "outputs": [
    {
     "data": {
      "text/plain": [
       "0.0    26852\n",
       "1.0     4976\n",
       "Name: loan, dtype: int64"
      ]
     },
     "execution_count": 17,
     "metadata": {},
     "output_type": "execute_result"
    }
   ],
   "source": [
    "df.loan.value_counts()"
   ]
  },
  {
   "cell_type": "code",
   "execution_count": 18,
   "id": "ea1d7d3b",
   "metadata": {},
   "outputs": [
    {
     "data": {
      "image/png": "[encoded data removed]",
      "text/plain": [
       "<Figure size 288x360 with 1 Axes>"
      ]
     },
     "metadata": {
      "needs_background": "light"
     },
     "output_type": "display_data"
    }
   ],
   "source": [
    "plt.figure(figsize=(4,5))\n",
    "sns.countplot(x=\"y\",data=df,palette=None)\n",
    "plt.xlabel('y')\n",
    "plt.show()"
   ]
  },
  {
   "cell_type": "code",
   "execution_count": 19,
   "id": "9df1ee1e",
   "metadata": {},
   "outputs": [
    {
     "data": {
      "image/png": "[encoded data removed]",
      "text/plain": [
       "<Figure size 288x360 with 1 Axes>"
      ]
     },
     "metadata": {
      "needs_background": "light"
     },
     "output_type": "display_data"
    }
   ],
   "source": [
    "plt.figure(figsize=(4,5))\n",
    "sns.countplot(x=\"loan\",data=df,palette=None)\n",
    "plt.xlabel(\"loan\")\n",
    "plt.show()"
   ]
  },
  {
   "cell_type": "markdown",
   "id": "e3bb619e",
   "metadata": {},
   "source": [
    "### From above graph we can conclude that more than 80% of people can't have a loan."
   ]
  },
  {
   "cell_type": "code",
   "execution_count": 20,
   "id": "ee76cbeb",
   "metadata": {},
   "outputs": [
    {
     "data": {
      "text/html": [
       "<div>\n",
       "<style scoped>\n",
       "    .dataframe tbody tr th:only-of-type {\n",
       "        vertical-align: middle;\n",
       "    }\n",
       "\n",
       "    .dataframe tbody tr th {\n",
       "        vertical-align: top;\n",
       "    }\n",
       "\n",
       "    .dataframe thead th {\n",
       "        text-align: right;\n",
       "    }\n",
       "</style>\n",
       "<table border=\"1\" class=\"dataframe\">\n",
       "  <thead>\n",
       "    <tr style=\"text-align: right;\">\n",
       "      <th></th>\n",
       "      <th>age</th>\n",
       "      <th>default</th>\n",
       "      <th>housing</th>\n",
       "      <th>loan</th>\n",
       "      <th>duration</th>\n",
       "      <th>campaign</th>\n",
       "      <th>pdays</th>\n",
       "      <th>previous</th>\n",
       "      <th>emp.var.rate</th>\n",
       "      <th>cons.price.idx</th>\n",
       "      <th>cons.conf.idx</th>\n",
       "      <th>euribor3m</th>\n",
       "      <th>nr.employed</th>\n",
       "      <th>y</th>\n",
       "    </tr>\n",
       "  </thead>\n",
       "  <tbody>\n",
       "    <tr>\n",
       "      <th>age</th>\n",
       "      <td>1.000000</td>\n",
       "      <td>0.002952</td>\n",
       "      <td>0.001855</td>\n",
       "      <td>-0.010697</td>\n",
       "      <td>0.006673</td>\n",
       "      <td>-0.003552</td>\n",
       "      <td>-0.047451</td>\n",
       "      <td>0.045727</td>\n",
       "      <td>-0.050516</td>\n",
       "      <td>-0.037416</td>\n",
       "      <td>0.128179</td>\n",
       "      <td>-0.036070</td>\n",
       "      <td>-0.063312</td>\n",
       "      <td>0.049509</td>\n",
       "    </tr>\n",
       "    <tr>\n",
       "      <th>default</th>\n",
       "      <td>0.002952</td>\n",
       "      <td>1.000000</td>\n",
       "      <td>-0.004042</td>\n",
       "      <td>-0.004180</td>\n",
       "      <td>-0.005820</td>\n",
       "      <td>-0.004247</td>\n",
       "      <td>0.002097</td>\n",
       "      <td>0.002462</td>\n",
       "      <td>0.005896</td>\n",
       "      <td>-0.002674</td>\n",
       "      <td>0.005056</td>\n",
       "      <td>0.006779</td>\n",
       "      <td>0.007342</td>\n",
       "      <td>-0.003734</td>\n",
       "    </tr>\n",
       "    <tr>\n",
       "      <th>housing</th>\n",
       "      <td>0.001855</td>\n",
       "      <td>-0.004042</td>\n",
       "      <td>1.000000</td>\n",
       "      <td>0.048100</td>\n",
       "      <td>-0.005556</td>\n",
       "      <td>-0.010645</td>\n",
       "      <td>-0.008941</td>\n",
       "      <td>0.021801</td>\n",
       "      <td>-0.059090</td>\n",
       "      <td>-0.077684</td>\n",
       "      <td>-0.036028</td>\n",
       "      <td>-0.058593</td>\n",
       "      <td>-0.044660</td>\n",
       "      <td>0.012092</td>\n",
       "    </tr>\n",
       "    <tr>\n",
       "      <th>loan</th>\n",
       "      <td>-0.010697</td>\n",
       "      <td>-0.004180</td>\n",
       "      <td>0.048100</td>\n",
       "      <td>1.000000</td>\n",
       "      <td>0.006590</td>\n",
       "      <td>0.007080</td>\n",
       "      <td>0.001108</td>\n",
       "      <td>-0.002590</td>\n",
       "      <td>-0.000403</td>\n",
       "      <td>-0.003943</td>\n",
       "      <td>-0.019042</td>\n",
       "      <td>-0.002468</td>\n",
       "      <td>0.003246</td>\n",
       "      <td>-0.004687</td>\n",
       "    </tr>\n",
       "    <tr>\n",
       "      <th>duration</th>\n",
       "      <td>0.006673</td>\n",
       "      <td>-0.005820</td>\n",
       "      <td>-0.005556</td>\n",
       "      <td>0.006590</td>\n",
       "      <td>1.000000</td>\n",
       "      <td>-0.069414</td>\n",
       "      <td>-0.049664</td>\n",
       "      <td>0.022038</td>\n",
       "      <td>-0.024539</td>\n",
       "      <td>0.011985</td>\n",
       "      <td>-0.008426</td>\n",
       "      <td>-0.030549</td>\n",
       "      <td>-0.042165</td>\n",
       "      <td>0.392781</td>\n",
       "    </tr>\n",
       "    <tr>\n",
       "      <th>campaign</th>\n",
       "      <td>-0.003552</td>\n",
       "      <td>-0.004247</td>\n",
       "      <td>-0.010645</td>\n",
       "      <td>0.007080</td>\n",
       "      <td>-0.069414</td>\n",
       "      <td>1.000000</td>\n",
       "      <td>0.055095</td>\n",
       "      <td>-0.081586</td>\n",
       "      <td>0.157996</td>\n",
       "      <td>0.126974</td>\n",
       "      <td>-0.015297</td>\n",
       "      <td>0.141503</td>\n",
       "      <td>0.149157</td>\n",
       "      <td>-0.070430</td>\n",
       "    </tr>\n",
       "    <tr>\n",
       "      <th>pdays</th>\n",
       "      <td>-0.047451</td>\n",
       "      <td>0.002097</td>\n",
       "      <td>-0.008941</td>\n",
       "      <td>0.001108</td>\n",
       "      <td>-0.049664</td>\n",
       "      <td>0.055095</td>\n",
       "      <td>1.000000</td>\n",
       "      <td>-0.595253</td>\n",
       "      <td>0.270975</td>\n",
       "      <td>0.066006</td>\n",
       "      <td>-0.104194</td>\n",
       "      <td>0.299676</td>\n",
       "      <td>0.375674</td>\n",
       "      <td>-0.331982</td>\n",
       "    </tr>\n",
       "    <tr>\n",
       "      <th>previous</th>\n",
       "      <td>0.045727</td>\n",
       "      <td>0.002462</td>\n",
       "      <td>0.021801</td>\n",
       "      <td>-0.002590</td>\n",
       "      <td>0.022038</td>\n",
       "      <td>-0.081586</td>\n",
       "      <td>-0.595253</td>\n",
       "      <td>1.000000</td>\n",
       "      <td>-0.403229</td>\n",
       "      <td>-0.170472</td>\n",
       "      <td>-0.022335</td>\n",
       "      <td>-0.441080</td>\n",
       "      <td>-0.492733</td>\n",
       "      <td>0.234616</td>\n",
       "    </tr>\n",
       "    <tr>\n",
       "      <th>emp.var.rate</th>\n",
       "      <td>-0.050516</td>\n",
       "      <td>0.005896</td>\n",
       "      <td>-0.059090</td>\n",
       "      <td>-0.000403</td>\n",
       "      <td>-0.024539</td>\n",
       "      <td>0.157996</td>\n",
       "      <td>0.270975</td>\n",
       "      <td>-0.403229</td>\n",
       "      <td>1.000000</td>\n",
       "      <td>0.765002</td>\n",
       "      <td>0.142321</td>\n",
       "      <td>0.969109</td>\n",
       "      <td>0.899383</td>\n",
       "      <td>-0.309622</td>\n",
       "    </tr>\n",
       "    <tr>\n",
       "      <th>cons.price.idx</th>\n",
       "      <td>-0.037416</td>\n",
       "      <td>-0.002674</td>\n",
       "      <td>-0.077684</td>\n",
       "      <td>-0.003943</td>\n",
       "      <td>0.011985</td>\n",
       "      <td>0.126974</td>\n",
       "      <td>0.066006</td>\n",
       "      <td>-0.170472</td>\n",
       "      <td>0.765002</td>\n",
       "      <td>1.000000</td>\n",
       "      <td>0.015546</td>\n",
       "      <td>0.664338</td>\n",
       "      <td>0.484643</td>\n",
       "      <td>-0.130693</td>\n",
       "    </tr>\n",
       "    <tr>\n",
       "      <th>cons.conf.idx</th>\n",
       "      <td>0.128179</td>\n",
       "      <td>0.005056</td>\n",
       "      <td>-0.036028</td>\n",
       "      <td>-0.019042</td>\n",
       "      <td>-0.008426</td>\n",
       "      <td>-0.015297</td>\n",
       "      <td>-0.104194</td>\n",
       "      <td>-0.022335</td>\n",
       "      <td>0.142321</td>\n",
       "      <td>0.015546</td>\n",
       "      <td>1.000000</td>\n",
       "      <td>0.229120</td>\n",
       "      <td>0.061613</td>\n",
       "      <td>0.066306</td>\n",
       "    </tr>\n",
       "    <tr>\n",
       "      <th>euribor3m</th>\n",
       "      <td>-0.036070</td>\n",
       "      <td>0.006779</td>\n",
       "      <td>-0.058593</td>\n",
       "      <td>-0.002468</td>\n",
       "      <td>-0.030549</td>\n",
       "      <td>0.141503</td>\n",
       "      <td>0.299676</td>\n",
       "      <td>-0.441080</td>\n",
       "      <td>0.969109</td>\n",
       "      <td>0.664338</td>\n",
       "      <td>0.229120</td>\n",
       "      <td>1.000000</td>\n",
       "      <td>0.944819</td>\n",
       "      <td>-0.320579</td>\n",
       "    </tr>\n",
       "    <tr>\n",
       "      <th>nr.employed</th>\n",
       "      <td>-0.063312</td>\n",
       "      <td>0.007342</td>\n",
       "      <td>-0.044660</td>\n",
       "      <td>0.003246</td>\n",
       "      <td>-0.042165</td>\n",
       "      <td>0.149157</td>\n",
       "      <td>0.375674</td>\n",
       "      <td>-0.492733</td>\n",
       "      <td>0.899383</td>\n",
       "      <td>0.484643</td>\n",
       "      <td>0.061613</td>\n",
       "      <td>0.944819</td>\n",
       "      <td>1.000000</td>\n",
       "      <td>-0.368170</td>\n",
       "    </tr>\n",
       "    <tr>\n",
       "      <th>y</th>\n",
       "      <td>0.049509</td>\n",
       "      <td>-0.003734</td>\n",
       "      <td>0.012092</td>\n",
       "      <td>-0.004687</td>\n",
       "      <td>0.392781</td>\n",
       "      <td>-0.070430</td>\n",
       "      <td>-0.331982</td>\n",
       "      <td>0.234616</td>\n",
       "      <td>-0.309622</td>\n",
       "      <td>-0.130693</td>\n",
       "      <td>0.066306</td>\n",
       "      <td>-0.320579</td>\n",
       "      <td>-0.368170</td>\n",
       "      <td>1.000000</td>\n",
       "    </tr>\n",
       "  </tbody>\n",
       "</table>\n",
       "</div>"
      ],
      "text/plain": [
       "                     age   default   housing      loan  duration  campaign  \\\n",
       "age             1.000000  0.002952  0.001855 -0.010697  0.006673 -0.003552   \n",
       "default         0.002952  1.000000 -0.004042 -0.004180 -0.005820 -0.004247   \n",
       "housing         0.001855 -0.004042  1.000000  0.048100 -0.005556 -0.010645   \n",
       "loan           -0.010697 -0.004180  0.048100  1.000000  0.006590  0.007080   \n",
       "duration        0.006673 -0.005820 -0.005556  0.006590  1.000000 -0.069414   \n",
       "campaign       -0.003552 -0.004247 -0.010645  0.007080 -0.069414  1.000000   \n",
       "pdays          -0.047451  0.002097 -0.008941  0.001108 -0.049664  0.055095   \n",
       "previous        0.045727  0.002462  0.021801 -0.002590  0.022038 -0.081586   \n",
       "emp.var.rate   -0.050516  0.005896 -0.059090 -0.000403 -0.024539  0.157996   \n",
       "cons.price.idx -0.037416 -0.002674 -0.077684 -0.003943  0.011985  0.126974   \n",
       "cons.conf.idx   0.128179  0.005056 -0.036028 -0.019042 -0.008426 -0.015297   \n",
       "euribor3m      -0.036070  0.006779 -0.058593 -0.002468 -0.030549  0.141503   \n",
       "nr.employed    -0.063312  0.007342 -0.044660  0.003246 -0.042165  0.149157   \n",
       "y               0.049509 -0.003734  0.012092 -0.004687  0.392781 -0.070430   \n",
       "\n",
       "                   pdays  previous  emp.var.rate  cons.price.idx  \\\n",
       "age            -0.047451  0.045727     -0.050516       -0.037416   \n",
       "default         0.002097  0.002462      0.005896       -0.002674   \n",
       "housing        -0.008941  0.021801     -0.059090       -0.077684   \n",
       "loan            0.001108 -0.002590     -0.000403       -0.003943   \n",
       "duration       -0.049664  0.022038     -0.024539        0.011985   \n",
       "campaign        0.055095 -0.081586      0.157996        0.126974   \n",
       "pdays           1.000000 -0.595253      0.270975        0.066006   \n",
       "previous       -0.595253  1.000000     -0.403229       -0.170472   \n",
       "emp.var.rate    0.270975 -0.403229      1.000000        0.765002   \n",
       "cons.price.idx  0.066006 -0.170472      0.765002        1.000000   \n",
       "cons.conf.idx  -0.104194 -0.022335      0.142321        0.015546   \n",
       "euribor3m       0.299676 -0.441080      0.969109        0.664338   \n",
       "nr.employed     0.375674 -0.492733      0.899383        0.484643   \n",
       "y              -0.331982  0.234616     -0.309622       -0.130693   \n",
       "\n",
       "                cons.conf.idx  euribor3m  nr.employed         y  \n",
       "age                  0.128179  -0.036070    -0.063312  0.049509  \n",
       "default              0.005056   0.006779     0.007342 -0.003734  \n",
       "housing             -0.036028  -0.058593    -0.044660  0.012092  \n",
       "loan                -0.019042  -0.002468     0.003246 -0.004687  \n",
       "duration            -0.008426  -0.030549    -0.042165  0.392781  \n",
       "campaign            -0.015297   0.141503     0.149157 -0.070430  \n",
       "pdays               -0.104194   0.299676     0.375674 -0.331982  \n",
       "previous            -0.022335  -0.441080    -0.492733  0.234616  \n",
       "emp.var.rate         0.142321   0.969109     0.899383 -0.309622  \n",
       "cons.price.idx       0.015546   0.664338     0.484643 -0.130693  \n",
       "cons.conf.idx        1.000000   0.229120     0.061613  0.066306  \n",
       "euribor3m            0.229120   1.000000     0.944819 -0.320579  \n",
       "nr.employed          0.061613   0.944819     1.000000 -0.368170  \n",
       "y                    0.066306  -0.320579    -0.368170  1.000000  "
      ]
     },
     "execution_count": 20,
     "metadata": {},
     "output_type": "execute_result"
    }
   ],
   "source": [
    "df.corr()"
   ]
  },
  {
   "cell_type": "code",
   "execution_count": 21,
   "id": "1c376130",
   "metadata": {},
   "outputs": [
    {
     "data": {
      "image/png": "[encoded data removed]",
      "text/plain": [
       "<Figure size 1296x720 with 2 Axes>"
      ]
     },
     "metadata": {
      "needs_background": "light"
     },
     "output_type": "display_data"
    }
   ],
   "source": [
    "fig= plt.figure(figsize=(18, 10))\n",
    "sns.heatmap(df.corr(), annot=True);\n",
    "plt.xticks(rotation=45);"
   ]
  },
  {
   "cell_type": "code",
   "execution_count": 22,
   "id": "e27cc46d",
   "metadata": {},
   "outputs": [
    {
     "data": {
      "text/html": [
       "<div>\n",
       "<style scoped>\n",
       "    .dataframe tbody tr th:only-of-type {\n",
       "        vertical-align: middle;\n",
       "    }\n",
       "\n",
       "    .dataframe tbody tr th {\n",
       "        vertical-align: top;\n",
       "    }\n",
       "\n",
       "    .dataframe thead th {\n",
       "        text-align: right;\n",
       "    }\n",
       "</style>\n",
       "<table border=\"1\" class=\"dataframe\">\n",
       "  <thead>\n",
       "    <tr style=\"text-align: right;\">\n",
       "      <th></th>\n",
       "      <th>age</th>\n",
       "      <th>job</th>\n",
       "      <th>marital</th>\n",
       "      <th>education</th>\n",
       "      <th>default</th>\n",
       "      <th>housing</th>\n",
       "      <th>loan</th>\n",
       "      <th>contact</th>\n",
       "      <th>month</th>\n",
       "      <th>day_of_week</th>\n",
       "      <th>...</th>\n",
       "      <th>campaign</th>\n",
       "      <th>pdays</th>\n",
       "      <th>previous</th>\n",
       "      <th>poutcome</th>\n",
       "      <th>emp.var.rate</th>\n",
       "      <th>cons.price.idx</th>\n",
       "      <th>cons.conf.idx</th>\n",
       "      <th>euribor3m</th>\n",
       "      <th>nr.employed</th>\n",
       "      <th>y</th>\n",
       "    </tr>\n",
       "  </thead>\n",
       "  <tbody>\n",
       "    <tr>\n",
       "      <th>0</th>\n",
       "      <td>56</td>\n",
       "      <td>housemaid</td>\n",
       "      <td>married</td>\n",
       "      <td>basic.4y</td>\n",
       "      <td>0.0</td>\n",
       "      <td>0.0</td>\n",
       "      <td>0.0</td>\n",
       "      <td>telephone</td>\n",
       "      <td>may</td>\n",
       "      <td>mon</td>\n",
       "      <td>...</td>\n",
       "      <td>1</td>\n",
       "      <td>999</td>\n",
       "      <td>0</td>\n",
       "      <td>nonexistent</td>\n",
       "      <td>1.1</td>\n",
       "      <td>93.994</td>\n",
       "      <td>-36.4</td>\n",
       "      <td>4.857</td>\n",
       "      <td>5191.0</td>\n",
       "      <td>0</td>\n",
       "    </tr>\n",
       "    <tr>\n",
       "      <th>2</th>\n",
       "      <td>37</td>\n",
       "      <td>services</td>\n",
       "      <td>married</td>\n",
       "      <td>high.school</td>\n",
       "      <td>0.0</td>\n",
       "      <td>1.0</td>\n",
       "      <td>0.0</td>\n",
       "      <td>telephone</td>\n",
       "      <td>may</td>\n",
       "      <td>mon</td>\n",
       "      <td>...</td>\n",
       "      <td>1</td>\n",
       "      <td>999</td>\n",
       "      <td>0</td>\n",
       "      <td>nonexistent</td>\n",
       "      <td>1.1</td>\n",
       "      <td>93.994</td>\n",
       "      <td>-36.4</td>\n",
       "      <td>4.857</td>\n",
       "      <td>5191.0</td>\n",
       "      <td>0</td>\n",
       "    </tr>\n",
       "    <tr>\n",
       "      <th>3</th>\n",
       "      <td>40</td>\n",
       "      <td>admin.</td>\n",
       "      <td>married</td>\n",
       "      <td>basic.6y</td>\n",
       "      <td>0.0</td>\n",
       "      <td>0.0</td>\n",
       "      <td>0.0</td>\n",
       "      <td>telephone</td>\n",
       "      <td>may</td>\n",
       "      <td>mon</td>\n",
       "      <td>...</td>\n",
       "      <td>1</td>\n",
       "      <td>999</td>\n",
       "      <td>0</td>\n",
       "      <td>nonexistent</td>\n",
       "      <td>1.1</td>\n",
       "      <td>93.994</td>\n",
       "      <td>-36.4</td>\n",
       "      <td>4.857</td>\n",
       "      <td>5191.0</td>\n",
       "      <td>0</td>\n",
       "    </tr>\n",
       "    <tr>\n",
       "      <th>4</th>\n",
       "      <td>56</td>\n",
       "      <td>services</td>\n",
       "      <td>married</td>\n",
       "      <td>high.school</td>\n",
       "      <td>0.0</td>\n",
       "      <td>0.0</td>\n",
       "      <td>1.0</td>\n",
       "      <td>telephone</td>\n",
       "      <td>may</td>\n",
       "      <td>mon</td>\n",
       "      <td>...</td>\n",
       "      <td>1</td>\n",
       "      <td>999</td>\n",
       "      <td>0</td>\n",
       "      <td>nonexistent</td>\n",
       "      <td>1.1</td>\n",
       "      <td>93.994</td>\n",
       "      <td>-36.4</td>\n",
       "      <td>4.857</td>\n",
       "      <td>5191.0</td>\n",
       "      <td>0</td>\n",
       "    </tr>\n",
       "    <tr>\n",
       "      <th>6</th>\n",
       "      <td>59</td>\n",
       "      <td>admin.</td>\n",
       "      <td>married</td>\n",
       "      <td>professional.course</td>\n",
       "      <td>0.0</td>\n",
       "      <td>0.0</td>\n",
       "      <td>0.0</td>\n",
       "      <td>telephone</td>\n",
       "      <td>may</td>\n",
       "      <td>mon</td>\n",
       "      <td>...</td>\n",
       "      <td>1</td>\n",
       "      <td>999</td>\n",
       "      <td>0</td>\n",
       "      <td>nonexistent</td>\n",
       "      <td>1.1</td>\n",
       "      <td>93.994</td>\n",
       "      <td>-36.4</td>\n",
       "      <td>4.857</td>\n",
       "      <td>5191.0</td>\n",
       "      <td>0</td>\n",
       "    </tr>\n",
       "  </tbody>\n",
       "</table>\n",
       "<p>5 rows × 21 columns</p>\n",
       "</div>"
      ],
      "text/plain": [
       "   age        job  marital            education  default  housing  loan  \\\n",
       "0   56  housemaid  married             basic.4y      0.0      0.0   0.0   \n",
       "2   37   services  married          high.school      0.0      1.0   0.0   \n",
       "3   40     admin.  married             basic.6y      0.0      0.0   0.0   \n",
       "4   56   services  married          high.school      0.0      0.0   1.0   \n",
       "6   59     admin.  married  professional.course      0.0      0.0   0.0   \n",
       "\n",
       "     contact month day_of_week  ...  campaign  pdays  previous     poutcome  \\\n",
       "0  telephone   may         mon  ...         1    999         0  nonexistent   \n",
       "2  telephone   may         mon  ...         1    999         0  nonexistent   \n",
       "3  telephone   may         mon  ...         1    999         0  nonexistent   \n",
       "4  telephone   may         mon  ...         1    999         0  nonexistent   \n",
       "6  telephone   may         mon  ...         1    999         0  nonexistent   \n",
       "\n",
       "  emp.var.rate  cons.price.idx  cons.conf.idx  euribor3m  nr.employed  y  \n",
       "0          1.1          93.994          -36.4      4.857       5191.0  0  \n",
       "2          1.1          93.994          -36.4      4.857       5191.0  0  \n",
       "3          1.1          93.994          -36.4      4.857       5191.0  0  \n",
       "4          1.1          93.994          -36.4      4.857       5191.0  0  \n",
       "6          1.1          93.994          -36.4      4.857       5191.0  0  \n",
       "\n",
       "[5 rows x 21 columns]"
      ]
     },
     "execution_count": 22,
     "metadata": {},
     "output_type": "execute_result"
    }
   ],
   "source": [
    "df.head()"
   ]
  },
  {
   "cell_type": "code",
   "execution_count": 23,
   "id": "8cfff75f",
   "metadata": {},
   "outputs": [
    {
     "data": {
      "image/png": "[encoded data removed]",
      "text/plain": [
       "<Figure size 1296x216 with 2 Axes>"
      ]
     },
     "metadata": {
      "needs_background": "light"
     },
     "output_type": "display_data"
    }
   ],
   "source": [
    "fig= plt.figure(figsize=(18, 3))\n",
    "sns.heatmap(pd.crosstab(index=df['job'], columns=df['y']), annot=True, \n",
    "            fmt='g')\n",
    "plt.xticks(rotation=45);"
   ]
  },
  {
   "cell_type": "code",
   "execution_count": 24,
   "id": "df400535",
   "metadata": {},
   "outputs": [
    {
     "data": {
      "image/png": "[encoded data removed]",
      "text/plain": [
       "<Figure size 1296x216 with 2 Axes>"
      ]
     },
     "metadata": {
      "needs_background": "light"
     },
     "output_type": "display_data"
    }
   ],
   "source": [
    "fig= plt.figure(figsize=(18, 3))\n",
    "sns.heatmap(pd.crosstab(index=df['marital'], columns=df['y']), annot=True, \n",
    "            fmt='g')\n",
    "plt.xticks(rotation=45);"
   ]
  },
  {
   "cell_type": "code",
   "execution_count": 25,
   "id": "71960fe8",
   "metadata": {},
   "outputs": [
    {
     "data": {
      "image/png": "[encoded data removed]",
      "text/plain": [
       "<Figure size 1296x216 with 2 Axes>"
      ]
     },
     "metadata": {
      "needs_background": "light"
     },
     "output_type": "display_data"
    }
   ],
   "source": [
    "fig= plt.figure(figsize=(18, 3))\n",
    "sns.heatmap(pd.crosstab(index=df['education'], columns=df['y']), annot=True, \n",
    "            fmt='g')\n",
    "plt.xticks(rotation=45);"
   ]
  },
  {
   "cell_type": "code",
   "execution_count": 26,
   "id": "d3e8f051",
   "metadata": {},
   "outputs": [
    {
     "data": {
      "image/png": "[encoded data removed]",
      "text/plain": [
       "<Figure size 1296x216 with 2 Axes>"
      ]
     },
     "metadata": {
      "needs_background": "light"
     },
     "output_type": "display_data"
    }
   ],
   "source": [
    "fig= plt.figure(figsize=(18, 3))\n",
    "sns.heatmap(pd.crosstab(index=df['poutcome'], columns=df['y']), annot=True, \n",
    "            fmt='g')\n",
    "plt.xticks(rotation=45);"
   ]
  },
  {
   "cell_type": "code",
   "execution_count": null,
   "id": "6d36f642",
   "metadata": {},
   "outputs": [],
   "source": []
  },
  {
   "cell_type": "code",
   "execution_count": 27,
   "id": "ea8f22c5",
   "metadata": {},
   "outputs": [
    {
     "data": {
      "text/html": [
       "<div>\n",
       "<style scoped>\n",
       "    .dataframe tbody tr th:only-of-type {\n",
       "        vertical-align: middle;\n",
       "    }\n",
       "\n",
       "    .dataframe tbody tr th {\n",
       "        vertical-align: top;\n",
       "    }\n",
       "\n",
       "    .dataframe thead th {\n",
       "        text-align: right;\n",
       "    }\n",
       "</style>\n",
       "<table border=\"1\" class=\"dataframe\">\n",
       "  <thead>\n",
       "    <tr style=\"text-align: right;\">\n",
       "      <th></th>\n",
       "      <th>age</th>\n",
       "      <th>default</th>\n",
       "      <th>housing</th>\n",
       "      <th>loan</th>\n",
       "      <th>duration</th>\n",
       "      <th>campaign</th>\n",
       "      <th>pdays</th>\n",
       "      <th>previous</th>\n",
       "      <th>emp.var.rate</th>\n",
       "      <th>cons.price.idx</th>\n",
       "      <th>cons.conf.idx</th>\n",
       "      <th>euribor3m</th>\n",
       "      <th>nr.employed</th>\n",
       "    </tr>\n",
       "    <tr>\n",
       "      <th>y</th>\n",
       "      <th></th>\n",
       "      <th></th>\n",
       "      <th></th>\n",
       "      <th></th>\n",
       "      <th></th>\n",
       "      <th></th>\n",
       "      <th></th>\n",
       "      <th></th>\n",
       "      <th></th>\n",
       "      <th></th>\n",
       "      <th></th>\n",
       "      <th></th>\n",
       "      <th></th>\n",
       "    </tr>\n",
       "  </thead>\n",
       "  <tbody>\n",
       "    <tr>\n",
       "      <th>0</th>\n",
       "      <td>38.948137</td>\n",
       "      <td>0.000108</td>\n",
       "      <td>0.538464</td>\n",
       "      <td>0.156995</td>\n",
       "      <td>220.540051</td>\n",
       "      <td>2.592960</td>\n",
       "      <td>980.917914</td>\n",
       "      <td>0.150575</td>\n",
       "      <td>0.110813</td>\n",
       "      <td>93.554046</td>\n",
       "      <td>-40.691506</td>\n",
       "      <td>3.667780</td>\n",
       "      <td>5170.776766</td>\n",
       "    </tr>\n",
       "    <tr>\n",
       "      <th>1</th>\n",
       "      <td>40.496708</td>\n",
       "      <td>0.000000</td>\n",
       "      <td>0.556450</td>\n",
       "      <td>0.151914</td>\n",
       "      <td>526.978786</td>\n",
       "      <td>2.022921</td>\n",
       "      <td>777.912948</td>\n",
       "      <td>0.522799</td>\n",
       "      <td>-1.383175</td>\n",
       "      <td>93.324793</td>\n",
       "      <td>-39.740454</td>\n",
       "      <td>1.961443</td>\n",
       "      <td>5087.539015</td>\n",
       "    </tr>\n",
       "  </tbody>\n",
       "</table>\n",
       "</div>"
      ],
      "text/plain": [
       "         age   default   housing      loan    duration  campaign       pdays  \\\n",
       "y                                                                              \n",
       "0  38.948137  0.000108  0.538464  0.156995  220.540051  2.592960  980.917914   \n",
       "1  40.496708  0.000000  0.556450  0.151914  526.978786  2.022921  777.912948   \n",
       "\n",
       "   previous  emp.var.rate  cons.price.idx  cons.conf.idx  euribor3m  \\\n",
       "y                                                                     \n",
       "0  0.150575      0.110813       93.554046     -40.691506   3.667780   \n",
       "1  0.522799     -1.383175       93.324793     -39.740454   1.961443   \n",
       "\n",
       "   nr.employed  \n",
       "y               \n",
       "0  5170.776766  \n",
       "1  5087.539015  "
      ]
     },
     "execution_count": 27,
     "metadata": {},
     "output_type": "execute_result"
    }
   ],
   "source": [
    "#Groupingby target \n",
    "df.groupby('y').mean()"
   ]
  },
  {
   "cell_type": "code",
   "execution_count": 28,
   "id": "39eb45c9",
   "metadata": {},
   "outputs": [
    {
     "data": {
      "text/plain": [
       "age  y\n",
       "17   0     3\n",
       "     1     1\n",
       "18   0    15\n",
       "     1    12\n",
       "19   0    19\n",
       "          ..\n",
       "91   0     2\n",
       "92   1     2\n",
       "     0     1\n",
       "94   0     1\n",
       "95   0     1\n",
       "Name: y, Length: 149, dtype: int64"
      ]
     },
     "execution_count": 28,
     "metadata": {},
     "output_type": "execute_result"
    }
   ],
   "source": [
    "df.groupby('age')['y'].value_counts()"
   ]
  },
  {
   "cell_type": "code",
   "execution_count": 29,
   "id": "7a66a2e1",
   "metadata": {},
   "outputs": [
    {
     "data": {
      "image/png": "[encoded data removed]",
      "text/plain": [
       "<Figure size 1440x432 with 1 Axes>"
      ]
     },
     "metadata": {
      "needs_background": "light"
     },
     "output_type": "display_data"
    }
   ],
   "source": [
    "pd.crosstab(df.age,df.y).plot(kind=\"bar\",figsize=(20,6))\n",
    "plt.title('Loan may accepted Frequency for Ages')\n",
    "plt.xlabel('Age')\n",
    "plt.ylabel('Frequency')\n",
    "plt.show()"
   ]
  },
  {
   "cell_type": "code",
   "execution_count": 30,
   "id": "bee908b4",
   "metadata": {},
   "outputs": [
    {
     "data": {
      "image/png": "[encoded data removed]",
      "text/plain": [
       "<Figure size 1080x432 with 1 Axes>"
      ]
     },
     "metadata": {
      "needs_background": "light"
     },
     "output_type": "display_data"
    }
   ],
   "source": [
    "pd.crosstab(df.housing,df.y).plot(kind=\"bar\",figsize=(15,6),color=['#1CA53B','#AA1111' ])\n",
    "plt.title('Loan may accepted Frequency for Housing')\n",
    "plt.xlabel('housing (\"no\" = Have no house , \"yes\" = Have House)')\n",
    "plt.xticks(rotation=0)\n",
    "plt.legend([\"Have no house\", \"Have House\"])\n",
    "plt.ylabel('Frequency')\n",
    "plt.show()"
   ]
  },
  {
   "cell_type": "code",
   "execution_count": 31,
   "id": "35042531",
   "metadata": {},
   "outputs": [
    {
     "data": {
      "image/png": "[encoded data removed]",
      "text/plain": [
       "<Figure size 432x288 with 1 Axes>"
      ]
     },
     "metadata": {
      "needs_background": "light"
     },
     "output_type": "display_data"
    }
   ],
   "source": [
    "plt.scatter(x=df.age[df.y== 1], y=df.default[(df.y== 1)], c=\"red\")\n",
    "plt.scatter(x=df.age[df.y== 0], y=df.default[(df.y== 0)])\n",
    "plt.legend([\"Loan\", \"Not Loan\"])\n",
    "plt.xlabel(\"Age\")\n",
    "plt.ylabel(\"Maximum Heart Rate\")\n",
    "plt.show()"
   ]
  },
  {
   "cell_type": "code",
   "execution_count": 32,
   "id": "4adf3e25",
   "metadata": {},
   "outputs": [
    {
     "data": {
      "image/png": "[encoded data removed]",
      "text/plain": [
       "<Figure size 432x288 with 1 Axes>"
      ]
     },
     "metadata": {
      "needs_background": "light"
     },
     "output_type": "display_data"
    }
   ],
   "source": [
    "plt.scatter(x=df.age[df.y== 1], y=df.loan[(df.y== 1)], c=\"red\")\n",
    "plt.scatter(x=df.age[df.y== 0], y=df.loan[(df.y== 0)])\n",
    "plt.legend([\"Loan\", \"Not Loan\"])\n",
    "plt.xlabel(\"Age\")\n",
    "plt.ylabel(\"Maximum Heart Rate\")\n",
    "plt.show()"
   ]
  },
  {
   "cell_type": "code",
   "execution_count": 33,
   "id": "4eb92aa9",
   "metadata": {},
   "outputs": [
    {
     "data": {
      "image/png": "[encoded data removed]",
      "text/plain": [
       "<Figure size 432x288 with 1 Axes>"
      ]
     },
     "metadata": {
      "needs_background": "light"
     },
     "output_type": "display_data"
    }
   ],
   "source": [
    "plt.scatter(x=df.age[df.y== 1], y=df.pdays[(df.y== 1)], c=\"red\")\n",
    "plt.scatter(x=df.age[df.y== 0], y=df.pdays[(df.y== 0)])\n",
    "plt.legend([\"Loan\", \"Not Loan\"])\n",
    "plt.xlabel(\"Age\")\n",
    "plt.ylabel(\"Maximum Heart Rate\")\n",
    "plt.show()"
   ]
  },
  {
   "cell_type": "code",
   "execution_count": 34,
   "id": "33695b92",
   "metadata": {},
   "outputs": [
    {
     "data": {
      "text/plain": [
       "Index(['age', 'job', 'marital', 'education', 'default', 'housing', 'loan',\n",
       "       'contact', 'month', 'day_of_week', 'duration', 'campaign', 'pdays',\n",
       "       'previous', 'poutcome', 'emp.var.rate', 'cons.price.idx',\n",
       "       'cons.conf.idx', 'euribor3m', 'nr.employed', 'y'],\n",
       "      dtype='object')"
      ]
     },
     "execution_count": 34,
     "metadata": {},
     "output_type": "execute_result"
    }
   ],
   "source": [
    "df.columns"
   ]
  },
  {
   "cell_type": "code",
   "execution_count": 35,
   "id": "3337d508",
   "metadata": {},
   "outputs": [
    {
     "data": {
      "text/html": [
       "<div>\n",
       "<style scoped>\n",
       "    .dataframe tbody tr th:only-of-type {\n",
       "        vertical-align: middle;\n",
       "    }\n",
       "\n",
       "    .dataframe tbody tr th {\n",
       "        vertical-align: top;\n",
       "    }\n",
       "\n",
       "    .dataframe thead th {\n",
       "        text-align: right;\n",
       "    }\n",
       "</style>\n",
       "<table border=\"1\" class=\"dataframe\">\n",
       "  <thead>\n",
       "    <tr style=\"text-align: right;\">\n",
       "      <th></th>\n",
       "      <th>age</th>\n",
       "      <th>default</th>\n",
       "      <th>housing</th>\n",
       "      <th>loan</th>\n",
       "      <th>day_of_week</th>\n",
       "      <th>duration</th>\n",
       "      <th>campaign</th>\n",
       "      <th>pdays</th>\n",
       "      <th>previous</th>\n",
       "      <th>emp.var.rate</th>\n",
       "      <th>cons.price.idx</th>\n",
       "      <th>cons.conf.idx</th>\n",
       "      <th>euribor3m</th>\n",
       "      <th>nr.employed</th>\n",
       "      <th>y</th>\n",
       "    </tr>\n",
       "  </thead>\n",
       "  <tbody>\n",
       "    <tr>\n",
       "      <th>0</th>\n",
       "      <td>56</td>\n",
       "      <td>0.0</td>\n",
       "      <td>0.0</td>\n",
       "      <td>0.0</td>\n",
       "      <td>mon</td>\n",
       "      <td>261</td>\n",
       "      <td>1</td>\n",
       "      <td>999</td>\n",
       "      <td>0</td>\n",
       "      <td>1.1</td>\n",
       "      <td>93.994</td>\n",
       "      <td>-36.4</td>\n",
       "      <td>4.857</td>\n",
       "      <td>5191.0</td>\n",
       "      <td>0</td>\n",
       "    </tr>\n",
       "    <tr>\n",
       "      <th>2</th>\n",
       "      <td>37</td>\n",
       "      <td>0.0</td>\n",
       "      <td>1.0</td>\n",
       "      <td>0.0</td>\n",
       "      <td>mon</td>\n",
       "      <td>226</td>\n",
       "      <td>1</td>\n",
       "      <td>999</td>\n",
       "      <td>0</td>\n",
       "      <td>1.1</td>\n",
       "      <td>93.994</td>\n",
       "      <td>-36.4</td>\n",
       "      <td>4.857</td>\n",
       "      <td>5191.0</td>\n",
       "      <td>0</td>\n",
       "    </tr>\n",
       "    <tr>\n",
       "      <th>3</th>\n",
       "      <td>40</td>\n",
       "      <td>0.0</td>\n",
       "      <td>0.0</td>\n",
       "      <td>0.0</td>\n",
       "      <td>mon</td>\n",
       "      <td>151</td>\n",
       "      <td>1</td>\n",
       "      <td>999</td>\n",
       "      <td>0</td>\n",
       "      <td>1.1</td>\n",
       "      <td>93.994</td>\n",
       "      <td>-36.4</td>\n",
       "      <td>4.857</td>\n",
       "      <td>5191.0</td>\n",
       "      <td>0</td>\n",
       "    </tr>\n",
       "    <tr>\n",
       "      <th>4</th>\n",
       "      <td>56</td>\n",
       "      <td>0.0</td>\n",
       "      <td>0.0</td>\n",
       "      <td>1.0</td>\n",
       "      <td>mon</td>\n",
       "      <td>307</td>\n",
       "      <td>1</td>\n",
       "      <td>999</td>\n",
       "      <td>0</td>\n",
       "      <td>1.1</td>\n",
       "      <td>93.994</td>\n",
       "      <td>-36.4</td>\n",
       "      <td>4.857</td>\n",
       "      <td>5191.0</td>\n",
       "      <td>0</td>\n",
       "    </tr>\n",
       "    <tr>\n",
       "      <th>6</th>\n",
       "      <td>59</td>\n",
       "      <td>0.0</td>\n",
       "      <td>0.0</td>\n",
       "      <td>0.0</td>\n",
       "      <td>mon</td>\n",
       "      <td>139</td>\n",
       "      <td>1</td>\n",
       "      <td>999</td>\n",
       "      <td>0</td>\n",
       "      <td>1.1</td>\n",
       "      <td>93.994</td>\n",
       "      <td>-36.4</td>\n",
       "      <td>4.857</td>\n",
       "      <td>5191.0</td>\n",
       "      <td>0</td>\n",
       "    </tr>\n",
       "  </tbody>\n",
       "</table>\n",
       "</div>"
      ],
      "text/plain": [
       "   age  default  housing  loan day_of_week  duration  campaign  pdays  \\\n",
       "0   56      0.0      0.0   0.0         mon       261         1    999   \n",
       "2   37      0.0      1.0   0.0         mon       226         1    999   \n",
       "3   40      0.0      0.0   0.0         mon       151         1    999   \n",
       "4   56      0.0      0.0   1.0         mon       307         1    999   \n",
       "6   59      0.0      0.0   0.0         mon       139         1    999   \n",
       "\n",
       "   previous  emp.var.rate  cons.price.idx  cons.conf.idx  euribor3m  \\\n",
       "0         0           1.1          93.994          -36.4      4.857   \n",
       "2         0           1.1          93.994          -36.4      4.857   \n",
       "3         0           1.1          93.994          -36.4      4.857   \n",
       "4         0           1.1          93.994          -36.4      4.857   \n",
       "6         0           1.1          93.994          -36.4      4.857   \n",
       "\n",
       "   nr.employed  y  \n",
       "0       5191.0  0  \n",
       "2       5191.0  0  \n",
       "3       5191.0  0  \n",
       "4       5191.0  0  \n",
       "6       5191.0  0  "
      ]
     },
     "execution_count": 35,
     "metadata": {},
     "output_type": "execute_result"
    }
   ],
   "source": [
    "df = df.drop(columns = ['job', 'marital', 'education','contact', 'month', 'poutcome'])\n",
    "df.head()"
   ]
  },
  {
   "cell_type": "markdown",
   "id": "3cd79985",
   "metadata": {},
   "source": [
    "## Creating Model"
   ]
  },
  {
   "cell_type": "code",
   "execution_count": 36,
   "id": "90381459",
   "metadata": {},
   "outputs": [],
   "source": [
    "#Splitting data in x & y_data \n",
    "y = df.y.values\n",
    "x = df.drop(['y'], axis = 1)"
   ]
  },
  {
   "cell_type": "code",
   "execution_count": 37,
   "id": "3db5d140",
   "metadata": {},
   "outputs": [],
   "source": [
    "x=x.drop(columns=['day_of_week'],axis=0)"
   ]
  },
  {
   "cell_type": "code",
   "execution_count": 38,
   "id": "c741316d",
   "metadata": {},
   "outputs": [],
   "source": [
    "x_train, x_test, y_train, y_test = train_test_split(x,y,test_size = 0.2,random_state=0)"
   ]
  },
  {
   "cell_type": "code",
   "execution_count": 39,
   "id": "48a6ef29",
   "metadata": {},
   "outputs": [
    {
     "data": {
      "text/plain": [
       "SVC(random_state=1)"
      ]
     },
     "execution_count": 39,
     "metadata": {},
     "output_type": "execute_result"
    }
   ],
   "source": [
    "#Support Vector Machine Algorithm\n",
    "from sklearn.svm import SVC\n",
    "\n",
    "svm = SVC(random_state = 1)\n",
    "svm.fit(x_train, y_train)"
   ]
  },
  {
   "cell_type": "code",
   "execution_count": 40,
   "id": "0d3bf8ca",
   "metadata": {},
   "outputs": [],
   "source": [
    "acc = svm.score(x_test,y_test)*100"
   ]
  },
  {
   "cell_type": "code",
   "execution_count": 41,
   "id": "720fd9dc",
   "metadata": {},
   "outputs": [
    {
     "data": {
      "text/plain": [
       "88.15582783537543"
      ]
     },
     "execution_count": 41,
     "metadata": {},
     "output_type": "execute_result"
    }
   ],
   "source": [
    "acc"
   ]
  },
  {
   "cell_type": "code",
   "execution_count": 42,
   "id": "aa08b456",
   "metadata": {},
   "outputs": [
    {
     "data": {
      "text/plain": [
       "RandomForestClassifier(n_estimators=1000, random_state=1)"
      ]
     },
     "execution_count": 42,
     "metadata": {},
     "output_type": "execute_result"
    }
   ],
   "source": [
    "# Random Forest Classification\n",
    "\n",
    "from sklearn.ensemble import RandomForestClassifier\n",
    "rf = RandomForestClassifier(n_estimators = 1000, random_state = 1)\n",
    "rf.fit(x_train, y_train)\n"
   ]
  },
  {
   "cell_type": "code",
   "execution_count": 43,
   "id": "6c37e82e",
   "metadata": {},
   "outputs": [],
   "source": [
    "acc = rf.score(x_test,y_test)*100"
   ]
  },
  {
   "cell_type": "code",
   "execution_count": 44,
   "id": "8c324500",
   "metadata": {},
   "outputs": [
    {
     "data": {
      "text/plain": [
       "89.80521520578071"
      ]
     },
     "execution_count": 44,
     "metadata": {},
     "output_type": "execute_result"
    }
   ],
   "source": [
    "acc"
   ]
  },
  {
   "cell_type": "code",
   "execution_count": 45,
   "id": "a2b96115",
   "metadata": {},
   "outputs": [],
   "source": [
    "# import KMeans\n",
    "from sklearn.cluster import KMeans"
   ]
  },
  {
   "cell_type": "code",
   "execution_count": 46,
   "id": "1f8cb68b",
   "metadata": {},
   "outputs": [
    {
     "name": "stdout",
     "output_type": "stream",
     "text": [
      "[[ 3.86373913e+01  1.49077799e-19  4.96521739e-01  1.57826087e-01\n",
      "   2.01443478e+02  2.34347826e+00  9.99000000e+02  3.34782609e-02\n",
      "   1.07282609e+00  9.38163665e+01 -3.92736522e+01  4.79526478e+00\n",
      "   5.21134909e+03]\n",
      " [ 3.88944444e+01  6.77626358e-20  5.66666667e-01  1.80555556e-01\n",
      "   8.88027778e+02  2.63888889e+00  9.99000000e+02  1.11111111e-01\n",
      "   1.37222222e-01  9.35564389e+01 -4.13208333e+01  3.68063333e+00\n",
      "   5.17378667e+03]\n",
      " [ 4.16844350e+01  1.08420217e-19  5.39445629e-01  1.38592751e-01\n",
      "   1.47179104e+02  1.84648188e+00  5.84221748e+00  1.65458422e+00\n",
      "  -2.24520256e+00  9.31947079e+01 -3.73486141e+01  9.85147122e-01\n",
      "   5.03359041e+03]\n",
      " [ 3.89563164e+01  6.77626358e-20  5.05312869e-01  1.81818182e-01\n",
      "   4.63066116e+02  2.37544274e+00  9.99000000e+02  1.88902007e-02\n",
      "   1.11912633e+00  9.38453081e+01 -3.94630460e+01  4.82140732e+00\n",
      "   5.21271877e+03]\n",
      " [ 3.78806523e+01 -5.01443505e-19  5.98220904e-01  1.58636027e-01\n",
      "   2.02806523e+02  2.01853225e+00  9.99000000e+02  2.69829503e-01\n",
      "  -1.98510007e+00  9.28839266e+01 -4.48551520e+01  1.29837880e+00\n",
      "   5.09524655e+03]\n",
      " [ 4.00952381e+01 -2.71050543e-20  4.85714286e-01  2.38095238e-01\n",
      "   1.53626667e+03  2.45714286e+00  9.99000000e+02  1.52380952e-01\n",
      "   9.80952381e-02  9.35873905e+01 -4.04914286e+01  3.63842857e+00\n",
      "   5.16688762e+03]\n",
      " [ 3.93362616e+01 -6.77626358e-20  5.35383114e-01  1.62518302e-01\n",
      "   4.17379209e+01  4.58125915e+00  9.99000000e+02  3.61151781e-02\n",
      "   1.04816984e+00  9.38162157e+01 -4.00024402e+01  4.77422401e+00\n",
      "   5.21501054e+03]\n",
      " [ 4.15340909e+01  1.35525272e-20  6.59090909e-01  1.93181818e-01\n",
      "   7.98079545e+02  1.84090909e+00  6.48863636e+00  1.67045455e+00\n",
      "  -2.04204545e+00  9.34551136e+01 -3.93136364e+01  9.70511364e-01\n",
      "   5.02670568e+03]\n",
      " [ 4.06000000e+01 -1.35525272e-20  6.00000000e-01  1.00000000e-01\n",
      "   3.68650000e+03  1.50000000e+00  8.99400000e+02  2.00000000e-01\n",
      "   4.40000000e-01  9.36627000e+01 -3.96100000e+01  4.12820000e+00\n",
      "   5.18138000e+03]\n",
      " [ 3.93352601e+01 -5.42101086e-20  5.31791908e-01  1.50289017e-01\n",
      "   1.27416763e+03  2.72254335e+00  9.99000000e+02  9.24855491e-02\n",
      "   1.06936416e-01  9.35728439e+01 -4.11612717e+01  3.60768208e+00\n",
      "   5.16929711e+03]\n",
      " [ 3.93198758e+01  1.49077799e-19  4.95341615e-01  1.24223602e-01\n",
      "   5.87888199e+02  2.73291925e+00  9.99000000e+02  2.63975155e-02\n",
      "   1.07111801e+00  9.38254394e+01 -3.99110248e+01  4.78903106e+00\n",
      "   5.21335807e+03]\n",
      " [ 3.90166147e+01  3.46140533e-04  5.31671859e-01  1.41917619e-01\n",
      "   1.43834545e+02  2.46555902e+00  9.99000000e+02  3.28833506e-02\n",
      "   1.10221530e+00  9.38131360e+01 -3.94211146e+01  4.81055417e+00\n",
      "   5.21364714e+03]\n",
      " [ 4.39156194e+01  1.49077799e-19  6.06822262e-01  1.36445242e-01\n",
      "   2.39131059e+02  1.85457810e+00  9.99000000e+02  5.45780969e-01\n",
      "  -2.13877917e+00  9.35439084e+01 -3.64096948e+01  7.91829443e-01\n",
      "   4.99773788e+03]\n",
      " [ 3.92628256e+01 -4.47233396e-19  5.08287293e-01  1.46014207e-01\n",
      "   3.60211523e+02  2.39779006e+00  9.99000000e+02  2.28887135e-02\n",
      "   1.09123915e+00  9.38440868e+01 -3.94774270e+01  4.80179716e+00\n",
      "   5.21204412e+03]\n",
      " [ 4.00355731e+01  1.35525272e-19  5.37549407e-01  1.54150198e-01\n",
      "   5.37468379e+02  1.89525692e+00  9.99000000e+02  3.32015810e-01\n",
      "  -2.03774704e+00  9.30280672e+01 -4.28693676e+01  1.17460870e+00\n",
      "   5.07350099e+03]\n",
      " [ 3.99787234e+01  1.35525272e-20  5.53191489e-01  1.91489362e-01\n",
      "   1.96810638e+03  2.25531915e+00  9.99000000e+02  8.51063830e-02\n",
      "  -1.46808511e-01  9.34831277e+01 -4.05765957e+01  3.47442553e+00\n",
      "   5.16174043e+03]\n",
      " [ 3.72364810e+01 -4.20128342e-19  5.89991929e-01  1.70298628e-01\n",
      "   5.07005650e+01  3.01129944e+00  9.99000000e+02  3.06698951e-01\n",
      "  -1.90653753e+00  9.28984286e+01 -4.55159806e+01  1.30226877e+00\n",
      "   5.09688208e+03]\n",
      " [ 3.83047910e+01 -1.49077799e-19  5.48419980e-01  1.59021407e-01\n",
      "   2.96931702e+02  1.88888889e+00  9.99000000e+02  2.70132518e-01\n",
      "  -2.00713558e+00  9.28732018e+01 -4.44968400e+01  1.28591947e+00\n",
      "   5.09428369e+03]\n",
      " [ 4.27396450e+01 -5.42101086e-20  5.14792899e-01  1.89349112e-01\n",
      "   4.99644970e+02  1.72781065e+00  6.54437870e+00  1.71005917e+00\n",
      "  -1.96213018e+00  9.34746864e+01 -3.94964497e+01  9.61964497e-01\n",
      "   5.02470473e+03]\n",
      " [ 4.22380261e+01  1.62630326e-19  5.66037736e-01  1.53846154e-01\n",
      "   9.99390421e+01  1.78374456e+00  9.99000000e+02  4.44121916e-01\n",
      "  -2.38592163e+00  9.33383164e+01 -3.47973875e+01  7.77708273e-01\n",
      "   5.00193585e+03]\n",
      " [ 3.91955128e+01  5.42101086e-20  5.86538462e-01  1.60256410e-01\n",
      "   7.14298077e+02  1.98397436e+00  9.99000000e+02  2.98076923e-01\n",
      "  -1.97980769e+00  9.30735032e+01 -4.29858974e+01  1.16953846e+00\n",
      "   5.07029263e+03]\n",
      " [ 3.88155452e+01 -4.47233396e-19  5.15661253e-01  1.58352668e-01\n",
      "   2.71467517e+02  2.52610209e+00  9.99000000e+02  2.14617169e-02\n",
      "   1.10939675e+00  9.38491363e+01 -3.93470418e+01  4.81845070e+00\n",
      "   5.21188968e+03]\n",
      " [ 3.92873711e+01  1.62630326e-19  5.72164948e-01  1.59793814e-01\n",
      "   3.99899485e+02  1.99226804e+00  9.99000000e+02  3.24742268e-01\n",
      "  -2.10463918e+00  9.30196546e+01 -4.18376289e+01  1.14246005e+00\n",
      "   5.06843015e+03]\n",
      " [ 3.93548692e+01  3.15159155e-04  5.24424835e-01  1.52537031e-01\n",
      "   9.21449732e+01  2.62212417e+00  9.99000000e+02  3.21462338e-02\n",
      "   1.07466120e+00  9.37593826e+01 -3.94664671e+01  4.79158620e+00\n",
      "   5.21475972e+03]\n",
      " [ 3.65384615e+01 -1.35525272e-20  6.15384615e-01  3.07692308e-01\n",
      "   2.51123077e+03  2.69230769e+00  9.99000000e+02 -2.77555756e-17\n",
      "   3.15384615e-01  9.37442308e+01 -4.16307692e+01  3.94138462e+00\n",
      "   5.18392308e+03]\n",
      " [ 3.83672566e+01  1.08420217e-19  5.33185841e-01  1.65929204e-01\n",
      "   7.29506637e+02  2.48893805e+00  9.99000000e+02  1.32743363e-02\n",
      "   1.10464602e+00  9.38318296e+01 -3.97234513e+01  4.81051770e+00\n",
      "   5.21326659e+03]\n",
      " [ 4.26250000e+01 -1.35525272e-20  6.25000000e-01  6.25000000e-02\n",
      "   1.35587500e+03  2.25000000e+00  6.12500000e+00  1.25000000e+00\n",
      "  -2.01875000e+00  9.32276250e+01 -3.98250000e+01  1.15075000e+00\n",
      "   5.04523125e+03]\n",
      " [ 4.17698413e+01  8.13151629e-20  5.63492063e-01  1.37566138e-01\n",
      "   2.95835979e+02  1.76984127e+00  6.03439153e+00  1.69047619e+00\n",
      "  -2.05661376e+00  9.34583571e+01 -3.83182540e+01  9.34277778e-01\n",
      "   5.02023333e+03]\n",
      " [ 3.87854545e+01  2.71050543e-20  5.16363636e-01  1.60000000e-01\n",
      "   1.07022182e+03  2.71636364e+00  9.99000000e+02  8.00000000e-02\n",
      "   1.22545455e-01  9.35742582e+01 -4.11552727e+01  3.67321091e+00\n",
      "   5.17153745e+03]\n",
      " [ 3.84554517e+01 -6.09863722e-19  6.03115265e-01  1.61370717e-01\n",
      "   1.22811215e+02  2.06853583e+00  9.99000000e+02  2.98442368e-01\n",
      "  -2.03507788e+00  9.28624006e+01 -4.43559502e+01  1.28438692e+00\n",
      "   5.09420611e+03]]\n"
     ]
    },
    {
     "ename": "NameError",
     "evalue": "name 'kmodel' is not defined",
     "output_type": "error",
     "traceback": [
      "\u001b[1;31m---------------------------------------------------------------------------\u001b[0m",
      "\u001b[1;31mNameError\u001b[0m                                 Traceback (most recent call last)",
      "\u001b[1;32m<ipython-input-46-e179312ceb14>\u001b[0m in \u001b[0;36m<module>\u001b[1;34m\u001b[0m\n\u001b[0;32m      3\u001b[0m \u001b[0mkmeans\u001b[0m\u001b[1;33m.\u001b[0m\u001b[0mfit\u001b[0m\u001b[1;33m(\u001b[0m\u001b[0mx_train\u001b[0m\u001b[1;33m,\u001b[0m\u001b[0my_train\u001b[0m\u001b[1;33m)\u001b[0m\u001b[1;33m\u001b[0m\u001b[1;33m\u001b[0m\u001b[0m\n\u001b[0;32m      4\u001b[0m \u001b[0mprint\u001b[0m\u001b[1;33m(\u001b[0m\u001b[0mkmeans\u001b[0m\u001b[1;33m.\u001b[0m\u001b[0mcluster_centers_\u001b[0m\u001b[1;33m)\u001b[0m\u001b[1;33m\u001b[0m\u001b[1;33m\u001b[0m\u001b[0m\n\u001b[1;32m----> 5\u001b[1;33m \u001b[0mprediction\u001b[0m\u001b[1;33m=\u001b[0m\u001b[0mkmodel\u001b[0m\u001b[1;33m.\u001b[0m\u001b[0mpredict\u001b[0m\u001b[1;33m(\u001b[0m\u001b[0mdf\u001b[0m\u001b[1;33m)\u001b[0m\u001b[1;33m\u001b[0m\u001b[1;33m\u001b[0m\u001b[0m\n\u001b[0m",
      "\u001b[1;31mNameError\u001b[0m: name 'kmodel' is not defined"
     ]
    }
   ],
   "source": [
    "# creating kmeans \n",
    "kmeans = KMeans(n_clusters=30)\n",
    "kmeans.fit(x_train,y_train)\n",
    "print(kmeans.cluster_centers_)\n",
    "prediction=kmodel.predict(df)"
   ]
  },
  {
   "cell_type": "code",
   "execution_count": 48,
   "id": "037a0155",
   "metadata": {},
   "outputs": [],
   "source": [
    "y_pred = kmeans.fit_predict(x_test)"
   ]
  },
  {
   "cell_type": "code",
   "execution_count": 49,
   "id": "5b964472",
   "metadata": {},
   "outputs": [],
   "source": [
    "from sklearn.metrics import confusion_matrix"
   ]
  },
  {
   "cell_type": "code",
   "execution_count": 50,
   "id": "08fcf47e",
   "metadata": {},
   "outputs": [],
   "source": [
    "cm=confusion_matrix(y_test,y_pred)"
   ]
  },
  {
   "cell_type": "code",
   "execution_count": 51,
   "id": "b41dcbdd",
   "metadata": {},
   "outputs": [
    {
     "data": {
      "text/plain": [
       "array([[799,  34,  28, 189, 167,  15, 331,   2,   7, 436, 779,  75,  43,\n",
       "        113, 646,  33, 274,   3,   6,  97,   3, 105,  34, 343, 274,  15,\n",
       "          8, 499, 128,  74],\n",
       "       [  8,  56,  79,  42,  33,  26,  31,   2,  14,   6,   2,  35,  44,\n",
       "         45,   2,  38,  13,   2,   5,  41,   7,  45,  59,   2,  24,  29,\n",
       "         41,   1,  13,  61],\n",
       "       [  0,   0,   0,   0,   0,   0,   0,   0,   0,   0,   0,   0,   0,\n",
       "          0,   0,   0,   0,   0,   0,   0,   0,   0,   0,   0,   0,   0,\n",
       "          0,   0,   0,   0],\n",
       "       [  0,   0,   0,   0,   0,   0,   0,   0,   0,   0,   0,   0,   0,\n",
       "          0,   0,   0,   0,   0,   0,   0,   0,   0,   0,   0,   0,   0,\n",
       "          0,   0,   0,   0],\n",
       "       [  0,   0,   0,   0,   0,   0,   0,   0,   0,   0,   0,   0,   0,\n",
       "          0,   0,   0,   0,   0,   0,   0,   0,   0,   0,   0,   0,   0,\n",
       "          0,   0,   0,   0],\n",
       "       [  0,   0,   0,   0,   0,   0,   0,   0,   0,   0,   0,   0,   0,\n",
       "          0,   0,   0,   0,   0,   0,   0,   0,   0,   0,   0,   0,   0,\n",
       "          0,   0,   0,   0],\n",
       "       [  0,   0,   0,   0,   0,   0,   0,   0,   0,   0,   0,   0,   0,\n",
       "          0,   0,   0,   0,   0,   0,   0,   0,   0,   0,   0,   0,   0,\n",
       "          0,   0,   0,   0],\n",
       "       [  0,   0,   0,   0,   0,   0,   0,   0,   0,   0,   0,   0,   0,\n",
       "          0,   0,   0,   0,   0,   0,   0,   0,   0,   0,   0,   0,   0,\n",
       "          0,   0,   0,   0],\n",
       "       [  0,   0,   0,   0,   0,   0,   0,   0,   0,   0,   0,   0,   0,\n",
       "          0,   0,   0,   0,   0,   0,   0,   0,   0,   0,   0,   0,   0,\n",
       "          0,   0,   0,   0],\n",
       "       [  0,   0,   0,   0,   0,   0,   0,   0,   0,   0,   0,   0,   0,\n",
       "          0,   0,   0,   0,   0,   0,   0,   0,   0,   0,   0,   0,   0,\n",
       "          0,   0,   0,   0],\n",
       "       [  0,   0,   0,   0,   0,   0,   0,   0,   0,   0,   0,   0,   0,\n",
       "          0,   0,   0,   0,   0,   0,   0,   0,   0,   0,   0,   0,   0,\n",
       "          0,   0,   0,   0],\n",
       "       [  0,   0,   0,   0,   0,   0,   0,   0,   0,   0,   0,   0,   0,\n",
       "          0,   0,   0,   0,   0,   0,   0,   0,   0,   0,   0,   0,   0,\n",
       "          0,   0,   0,   0],\n",
       "       [  0,   0,   0,   0,   0,   0,   0,   0,   0,   0,   0,   0,   0,\n",
       "          0,   0,   0,   0,   0,   0,   0,   0,   0,   0,   0,   0,   0,\n",
       "          0,   0,   0,   0],\n",
       "       [  0,   0,   0,   0,   0,   0,   0,   0,   0,   0,   0,   0,   0,\n",
       "          0,   0,   0,   0,   0,   0,   0,   0,   0,   0,   0,   0,   0,\n",
       "          0,   0,   0,   0],\n",
       "       [  0,   0,   0,   0,   0,   0,   0,   0,   0,   0,   0,   0,   0,\n",
       "          0,   0,   0,   0,   0,   0,   0,   0,   0,   0,   0,   0,   0,\n",
       "          0,   0,   0,   0],\n",
       "       [  0,   0,   0,   0,   0,   0,   0,   0,   0,   0,   0,   0,   0,\n",
       "          0,   0,   0,   0,   0,   0,   0,   0,   0,   0,   0,   0,   0,\n",
       "          0,   0,   0,   0],\n",
       "       [  0,   0,   0,   0,   0,   0,   0,   0,   0,   0,   0,   0,   0,\n",
       "          0,   0,   0,   0,   0,   0,   0,   0,   0,   0,   0,   0,   0,\n",
       "          0,   0,   0,   0],\n",
       "       [  0,   0,   0,   0,   0,   0,   0,   0,   0,   0,   0,   0,   0,\n",
       "          0,   0,   0,   0,   0,   0,   0,   0,   0,   0,   0,   0,   0,\n",
       "          0,   0,   0,   0],\n",
       "       [  0,   0,   0,   0,   0,   0,   0,   0,   0,   0,   0,   0,   0,\n",
       "          0,   0,   0,   0,   0,   0,   0,   0,   0,   0,   0,   0,   0,\n",
       "          0,   0,   0,   0],\n",
       "       [  0,   0,   0,   0,   0,   0,   0,   0,   0,   0,   0,   0,   0,\n",
       "          0,   0,   0,   0,   0,   0,   0,   0,   0,   0,   0,   0,   0,\n",
       "          0,   0,   0,   0],\n",
       "       [  0,   0,   0,   0,   0,   0,   0,   0,   0,   0,   0,   0,   0,\n",
       "          0,   0,   0,   0,   0,   0,   0,   0,   0,   0,   0,   0,   0,\n",
       "          0,   0,   0,   0],\n",
       "       [  0,   0,   0,   0,   0,   0,   0,   0,   0,   0,   0,   0,   0,\n",
       "          0,   0,   0,   0,   0,   0,   0,   0,   0,   0,   0,   0,   0,\n",
       "          0,   0,   0,   0],\n",
       "       [  0,   0,   0,   0,   0,   0,   0,   0,   0,   0,   0,   0,   0,\n",
       "          0,   0,   0,   0,   0,   0,   0,   0,   0,   0,   0,   0,   0,\n",
       "          0,   0,   0,   0],\n",
       "       [  0,   0,   0,   0,   0,   0,   0,   0,   0,   0,   0,   0,   0,\n",
       "          0,   0,   0,   0,   0,   0,   0,   0,   0,   0,   0,   0,   0,\n",
       "          0,   0,   0,   0],\n",
       "       [  0,   0,   0,   0,   0,   0,   0,   0,   0,   0,   0,   0,   0,\n",
       "          0,   0,   0,   0,   0,   0,   0,   0,   0,   0,   0,   0,   0,\n",
       "          0,   0,   0,   0],\n",
       "       [  0,   0,   0,   0,   0,   0,   0,   0,   0,   0,   0,   0,   0,\n",
       "          0,   0,   0,   0,   0,   0,   0,   0,   0,   0,   0,   0,   0,\n",
       "          0,   0,   0,   0],\n",
       "       [  0,   0,   0,   0,   0,   0,   0,   0,   0,   0,   0,   0,   0,\n",
       "          0,   0,   0,   0,   0,   0,   0,   0,   0,   0,   0,   0,   0,\n",
       "          0,   0,   0,   0],\n",
       "       [  0,   0,   0,   0,   0,   0,   0,   0,   0,   0,   0,   0,   0,\n",
       "          0,   0,   0,   0,   0,   0,   0,   0,   0,   0,   0,   0,   0,\n",
       "          0,   0,   0,   0],\n",
       "       [  0,   0,   0,   0,   0,   0,   0,   0,   0,   0,   0,   0,   0,\n",
       "          0,   0,   0,   0,   0,   0,   0,   0,   0,   0,   0,   0,   0,\n",
       "          0,   0,   0,   0],\n",
       "       [  0,   0,   0,   0,   0,   0,   0,   0,   0,   0,   0,   0,   0,\n",
       "          0,   0,   0,   0,   0,   0,   0,   0,   0,   0,   0,   0,   0,\n",
       "          0,   0,   0,   0]], dtype=int64)"
      ]
     },
     "execution_count": 51,
     "metadata": {},
     "output_type": "execute_result"
    }
   ],
   "source": [
    "cm"
   ]
  },
  {
   "cell_type": "code",
   "execution_count": null,
   "id": "dc476a66",
   "metadata": {},
   "outputs": [],
   "source": []
  }
 ],
 "metadata": {
  "kernelspec": {
   "display_name": "Python 3",
   "language": "python",
   "name": "python3"
  },
  "language_info": {
   "codemirror_mode": {
    "name": "ipython",
    "version": 3
   },
   "file_extension": ".py",
   "mimetype": "text/x-python",
   "name": "python",
   "nbconvert_exporter": "python",
   "pygments_lexer": "ipython3",
   "version": "3.8.8"
  }
 },
 "nbformat": 4,
 "nbformat_minor": 5
}
